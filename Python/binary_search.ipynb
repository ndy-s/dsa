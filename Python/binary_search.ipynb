{
 "cells": [
  {
   "cell_type": "code",
   "execution_count": 1,
   "id": "4fc3a08a-0285-4618-b465-11531b84e25c",
   "metadata": {},
   "outputs": [],
   "source": [
    "import math"
   ]
  },
  {
   "cell_type": "code",
   "execution_count": 2,
   "id": "bbbb3bb0-0375-4ea4-872c-672f5b1b82b6",
   "metadata": {},
   "outputs": [
    {
     "data": {
      "text/plain": [
       "7.0"
      ]
     },
     "execution_count": 2,
     "metadata": {},
     "output_type": "execute_result"
    }
   ],
   "source": [
    "math.sqrt(49)"
   ]
  },
  {
   "cell_type": "markdown",
   "id": "8b1439ec-bfa5-4ded-8462-fbdce6328f44",
   "metadata": {},
   "source": [
    "## Binary Search"
   ]
  },
  {
   "cell_type": "markdown",
   "id": "d047c913-3784-4ef3-82a8-c52b8a41e2af",
   "metadata": {},
   "source": [
    "**Problem Statement:** Write a program to find position of X value in given list numbers in descending order. Minimize the number of times access the list."
   ]
  },
  {
   "cell_type": "markdown",
   "id": "8a5219f5-8c9d-4d8e-b97e-a24f6c574f00",
   "metadata": {},
   "source": [
    "**Input**\n",
    "\n",
    "1. `cards`: A list of sorted numbers sorted in descending order `[10, 11, 8, 6, 3, 2 ,0]`\n",
    "2. `query`: A number to find the position. E.g. `6`"
   ]
  },
  {
   "cell_type": "markdown",
   "id": "8492216b-ce4d-4be0-a687-5890e2afdf85",
   "metadata": {},
   "source": [
    "**Output**\n",
    "\n",
    "3. `position`: The position of `query` in the list `cards`. E.g. `3` in the above case."
   ]
  },
  {
   "cell_type": "code",
   "execution_count": 3,
   "id": "98ee0463-e83a-430d-91d3-94275c4f830c",
   "metadata": {},
   "outputs": [],
   "source": [
    "# mock function\n",
    "def locate_card(cards, query):\n",
    "    pass"
   ]
  },
  {
   "cell_type": "code",
   "execution_count": 4,
   "id": "7f8edbcf-234b-4bd8-a1fa-2ea0e028bf0a",
   "metadata": {},
   "outputs": [],
   "source": [
    "cards = [10, 11, 8, 6, 3, 2, 0]\n",
    "query = 6\n",
    "output = 3"
   ]
  },
  {
   "cell_type": "code",
   "execution_count": 5,
   "id": "7855efd3-d48e-43f0-8294-82399689e5cd",
   "metadata": {},
   "outputs": [
    {
     "name": "stdout",
     "output_type": "stream",
     "text": [
      "None\n"
     ]
    }
   ],
   "source": [
    "result = locate_card(cards, query)\n",
    "print(result)"
   ]
  },
  {
   "cell_type": "code",
   "execution_count": 6,
   "id": "49138e3c-3ebf-4c61-8ff6-f18ca9764f9f",
   "metadata": {},
   "outputs": [
    {
     "data": {
      "text/plain": [
       "False"
      ]
     },
     "execution_count": 6,
     "metadata": {},
     "output_type": "execute_result"
    }
   ],
   "source": [
    "result == output"
   ]
  },
  {
   "cell_type": "code",
   "execution_count": 7,
   "id": "315f8adf-a63f-43de-91be-bc89f00e8b57",
   "metadata": {},
   "outputs": [],
   "source": [
    "test = {\n",
    "    'input': {\n",
    "        'cards': [10, 11, 8, 6, 3, 2, 0],\n",
    "        'query': 2\n",
    "    },\n",
    "    'output': 5\n",
    "}"
   ]
  },
  {
   "cell_type": "code",
   "execution_count": 8,
   "id": "72dcfaf2-422b-4458-926c-97bbefda85e0",
   "metadata": {},
   "outputs": [
    {
     "data": {
      "text/plain": [
       "False"
      ]
     },
     "execution_count": 8,
     "metadata": {},
     "output_type": "execute_result"
    }
   ],
   "source": [
    "locate_card(**test['input']) == test['output']"
   ]
  },
  {
   "cell_type": "markdown",
   "id": "6621d603-8254-437e-a190-526a17be6aff",
   "metadata": {},
   "source": [
    "**Violation that might be happen:**\n",
    "\n",
    "1. The number `query` in the middle of the `cards`.\n",
    "2. `query` is the first element in `cards`.\n",
    "3. `query` is the last element in `cards`.\n",
    "4. The list `cards` only contains one element which is `query`.\n",
    "5. The list `cards` contains duplicated value\n",
    "6. The list `cards` doesn't contain `query` number.\n",
    "7. `query` occurs more than once in the `cards` list.\n",
    "8. `cards` list is empty"
   ]
  },
  {
   "cell_type": "code",
   "execution_count": 9,
   "id": "46e76e4a-4fd2-4563-a9af-0c9c898da3dd",
   "metadata": {},
   "outputs": [],
   "source": [
    "tests = []"
   ]
  },
  {
   "cell_type": "code",
   "execution_count": 10,
   "id": "96daadeb-5693-4974-96ea-8879ac637e3c",
   "metadata": {},
   "outputs": [],
   "source": [
    "# query occurs in the middle\n",
    "tests.append(test)\n",
    "\n",
    "tests.append({\n",
    "    'input': {\n",
    "        'cards': [10, 11, 8, 6, 3, 2, 0],\n",
    "        'query': 6\n",
    "    },\n",
    "    'output': 3\n",
    "})"
   ]
  },
  {
   "cell_type": "code",
   "execution_count": 11,
   "id": "e0882100-1e7c-4423-96b0-c220d994b28a",
   "metadata": {},
   "outputs": [],
   "source": [
    "# query is the first element\n",
    "tests.append({\n",
    "    'input': {\n",
    "        'cards': [4, 2, 1, -1],\n",
    "        'query': 4\n",
    "    },\n",
    "    'output': 0\n",
    "})"
   ]
  },
  {
   "cell_type": "code",
   "execution_count": 12,
   "id": "c6ce483e-de58-47c9-bca6-568d8ffbec0f",
   "metadata": {},
   "outputs": [],
   "source": [
    "# query is the last element\n",
    "tests.append({\n",
    "    'input': {\n",
    "        'cards': [9, 3, -1, -125],\n",
    "        'query': -125\n",
    "    },\n",
    "    'output': 3\n",
    "})"
   ]
  },
  {
   "cell_type": "code",
   "execution_count": 13,
   "id": "f117ba8b-af7f-420b-b17b-61cf340c0025",
   "metadata": {},
   "outputs": [],
   "source": [
    "# cards contains just one element, query\n",
    "tests.append({\n",
    "    'input': {\n",
    "        'cards': [5],\n",
    "        'query': 5\n",
    "    },\n",
    "    'output': 0\n",
    "})"
   ]
  },
  {
   "cell_type": "code",
   "execution_count": 14,
   "id": "a412c22c-0b1d-48df-af01-4ed33adaac0c",
   "metadata": {},
   "outputs": [],
   "source": [
    "# cards does not contain query\n",
    "tests.append({\n",
    "    'input': {\n",
    "        'cards': [9, 7, 5, 2, -9],\n",
    "        'query': 4\n",
    "    },\n",
    "    'output': -1\n",
    "})"
   ]
  },
  {
   "cell_type": "code",
   "execution_count": 15,
   "id": "6781757b-d15a-49db-9272-d40a2863ceb8",
   "metadata": {},
   "outputs": [],
   "source": [
    "# cards is empty\n",
    "tests.append({\n",
    "    'input': {\n",
    "        'cards': [],\n",
    "        'query': 7\n",
    "    },\n",
    "    'output': -1\n",
    "})"
   ]
  },
  {
   "cell_type": "code",
   "execution_count": 16,
   "id": "92560ef1-b99f-4846-a742-9ab23623ffee",
   "metadata": {},
   "outputs": [],
   "source": [
    "# numbers can repeat in cards\n",
    "tests.append({\n",
    "    'input': {\n",
    "        'cards': [8, 8, 6, 6, 6, 3, 2, 2, 2, 0, 0],\n",
    "        'query': 3\n",
    "    },\n",
    "    'output': 5\n",
    "})"
   ]
  },
  {
   "cell_type": "code",
   "execution_count": 17,
   "id": "a7420841-bfca-4a4c-9575-9157c715d146",
   "metadata": {},
   "outputs": [],
   "source": [
    "# query occurs multiple times\n",
    "tests.append({\n",
    "    'input': {\n",
    "        'cards': [8, 8, 6, 6, 6, 3, 2, 2, 0, 0],\n",
    "        'query': 6\n",
    "    },\n",
    "    'output': 2\n",
    "})"
   ]
  },
  {
   "cell_type": "code",
   "execution_count": 18,
   "id": "c6b6b167-7091-4d78-b7ad-805cd17fbb36",
   "metadata": {},
   "outputs": [
    {
     "data": {
      "text/plain": [
       "[{'input': {'cards': [10, 11, 8, 6, 3, 2, 0], 'query': 2}, 'output': 5},\n",
       " {'input': {'cards': [10, 11, 8, 6, 3, 2, 0], 'query': 6}, 'output': 3},\n",
       " {'input': {'cards': [4, 2, 1, -1], 'query': 4}, 'output': 0},\n",
       " {'input': {'cards': [9, 3, -1, -125], 'query': -125}, 'output': 3},\n",
       " {'input': {'cards': [5], 'query': 5}, 'output': 0},\n",
       " {'input': {'cards': [9, 7, 5, 2, -9], 'query': 4}, 'output': -1},\n",
       " {'input': {'cards': [], 'query': 7}, 'output': -1},\n",
       " {'input': {'cards': [8, 8, 6, 6, 6, 3, 2, 2, 2, 0, 0], 'query': 3},\n",
       "  'output': 5},\n",
       " {'input': {'cards': [8, 8, 6, 6, 6, 3, 2, 2, 0, 0], 'query': 6}, 'output': 2}]"
      ]
     },
     "execution_count": 18,
     "metadata": {},
     "output_type": "execute_result"
    }
   ],
   "source": [
    "tests"
   ]
  },
  {
   "cell_type": "markdown",
   "id": "e265d30b-333a-48e4-bbf9-b1f645c9fd16",
   "metadata": {},
   "source": [
    "## Solution\n",
    "\n",
    "**Linear Search Algorithm**\n",
    "1. Define a variable `position` with value `0`.\n",
    "2. Check wheter the number at index `position` in `cards` is equal to `query`.\n",
    "3. If it does, `position` is the answer and can be returned from the function.\n",
    "4. If not incremenet the value of `position` by 1, and repeat steps 2 to 5 till we reach the last position.\n",
    "5. If the number was not found. return `-1`."
   ]
  },
  {
   "cell_type": "code",
   "execution_count": 19,
   "id": "da3e6d8e-513d-4973-b83d-0d1574d67222",
   "metadata": {},
   "outputs": [],
   "source": [
    "def locate_card(cards, query):\n",
    "    position = 0\n",
    "\n",
    "    while True:\n",
    "        if position == len(cards):\n",
    "            return -1\n",
    "        \n",
    "        if cards[position] == query:\n",
    "            return position\n",
    "        position += 1"
   ]
  },
  {
   "cell_type": "code",
   "execution_count": 20,
   "id": "2bc877bf-0145-4d1a-af98-acfaf15f1c01",
   "metadata": {},
   "outputs": [],
   "source": [
    "def locate_card(cards, query):\n",
    "    position = 0\n",
    "    while position < len(cards):\n",
    "        if cards[position] == query:\n",
    "            return position\n",
    "        position += 1\n",
    "    return -1"
   ]
  },
  {
   "cell_type": "markdown",
   "id": "f4aca4aa-9daa-4406-bb3d-0f47ff6c65c2",
   "metadata": {},
   "source": [
    "1. Define a function with 2 parameters, `cards` and `query`\n",
    "2. Loop throgh the `cards` using enumerate to access the value and its index.\n",
    "3. Then, compare the value of each card with query if it's equal then return the index.\n",
    "4. return -1 outside of the forloop to handle value not found in the `cards` list "
   ]
  },
  {
   "cell_type": "code",
   "execution_count": 21,
   "id": "0d842317-0690-4aa7-9889-84718863a924",
   "metadata": {},
   "outputs": [],
   "source": [
    "# My soulution\n",
    "def locate_card(cards, query):\n",
    "    for index, card in enumerate(cards):\n",
    "        if card == query:\n",
    "            return index\n",
    "    return -1"
   ]
  },
  {
   "cell_type": "code",
   "execution_count": 22,
   "id": "b7b2d0c6-a4ae-40b0-807f-6af677f813d6",
   "metadata": {},
   "outputs": [],
   "source": [
    "result = locate_card(test['input']['cards'], test['input']['query'])"
   ]
  },
  {
   "cell_type": "code",
   "execution_count": 23,
   "id": "0aeb607f-5432-44cf-8c4a-1f6f31804ab6",
   "metadata": {},
   "outputs": [
    {
     "data": {
      "text/plain": [
       "True"
      ]
     },
     "execution_count": 23,
     "metadata": {},
     "output_type": "execute_result"
    }
   ],
   "source": [
    "result == test['output']"
   ]
  },
  {
   "cell_type": "code",
   "execution_count": 24,
   "id": "164be601-7663-4e89-a4cb-895f5c1877ed",
   "metadata": {},
   "outputs": [],
   "source": [
    "!pip install jovian --upgrade --quiet"
   ]
  },
  {
   "cell_type": "code",
   "execution_count": 25,
   "id": "e4ddbac9-5361-4bfa-8487-c63939531232",
   "metadata": {},
   "outputs": [
    {
     "data": {
      "application/javascript": [
       "if (window.IPython && IPython.notebook.kernel) IPython.notebook.kernel.execute('jovian.utils.jupyter.get_notebook_name_saved = lambda: \"' + IPython.notebook.notebook_name + '\"')"
      ],
      "text/plain": [
       "<IPython.core.display.Javascript object>"
      ]
     },
     "metadata": {},
     "output_type": "display_data"
    }
   ],
   "source": [
    "from jovian.pythondsa import evaluate_test_case"
   ]
  },
  {
   "cell_type": "code",
   "execution_count": 26,
   "id": "c08c429e-b115-4d08-9914-c8ef7fba555c",
   "metadata": {},
   "outputs": [
    {
     "name": "stdout",
     "output_type": "stream",
     "text": [
      "\n",
      "Input:\n",
      "{'cards': [10, 11, 8, 6, 3, 2, 0], 'query': 2}\n",
      "\n",
      "Expected Output:\n",
      "5\n",
      "\n",
      "\n",
      "Actual Output:\n",
      "5\n",
      "\n",
      "Execution Time:\n",
      "0.009 ms\n",
      "\n",
      "Test Result:\n",
      "\u001b[92mPASSED\u001b[0m\n",
      "\n"
     ]
    },
    {
     "data": {
      "text/plain": [
       "(5, True, 0.009)"
      ]
     },
     "execution_count": 26,
     "metadata": {},
     "output_type": "execute_result"
    }
   ],
   "source": [
    "evaluate_test_case(locate_card, test)"
   ]
  },
  {
   "cell_type": "code",
   "execution_count": 27,
   "id": "7b993175-28c7-4d1e-81cc-d8f239dc2a42",
   "metadata": {},
   "outputs": [],
   "source": [
    "from jovian.pythondsa import evaluate_test_cases"
   ]
  },
  {
   "cell_type": "code",
   "execution_count": 28,
   "id": "db6d597f-af57-427a-a887-ca2ec5b109ba",
   "metadata": {},
   "outputs": [
    {
     "name": "stdout",
     "output_type": "stream",
     "text": [
      "\n",
      "\u001b[1mTEST CASE #0\u001b[0m\n",
      "\n",
      "Input:\n",
      "{'cards': [10, 11, 8, 6, 3, 2, 0], 'query': 2}\n",
      "\n",
      "Expected Output:\n",
      "5\n",
      "\n",
      "\n",
      "Actual Output:\n",
      "5\n",
      "\n",
      "Execution Time:\n",
      "0.008 ms\n",
      "\n",
      "Test Result:\n",
      "\u001b[92mPASSED\u001b[0m\n",
      "\n",
      "\n",
      "\u001b[1mTEST CASE #1\u001b[0m\n",
      "\n",
      "Input:\n",
      "{'cards': [10, 11, 8, 6, 3, 2, 0], 'query': 6}\n",
      "\n",
      "Expected Output:\n",
      "3\n",
      "\n",
      "\n",
      "Actual Output:\n",
      "3\n",
      "\n",
      "Execution Time:\n",
      "0.004 ms\n",
      "\n",
      "Test Result:\n",
      "\u001b[92mPASSED\u001b[0m\n",
      "\n",
      "\n",
      "\u001b[1mTEST CASE #2\u001b[0m\n",
      "\n",
      "Input:\n",
      "{'cards': [4, 2, 1, -1], 'query': 4}\n",
      "\n",
      "Expected Output:\n",
      "0\n",
      "\n",
      "\n",
      "Actual Output:\n",
      "0\n",
      "\n",
      "Execution Time:\n",
      "0.004 ms\n",
      "\n",
      "Test Result:\n",
      "\u001b[92mPASSED\u001b[0m\n",
      "\n",
      "\n",
      "\u001b[1mTEST CASE #3\u001b[0m\n",
      "\n",
      "Input:\n",
      "{'cards': [9, 3, -1, -125], 'query': -125}\n",
      "\n",
      "Expected Output:\n",
      "3\n",
      "\n",
      "\n",
      "Actual Output:\n",
      "3\n",
      "\n",
      "Execution Time:\n",
      "0.003 ms\n",
      "\n",
      "Test Result:\n",
      "\u001b[92mPASSED\u001b[0m\n",
      "\n",
      "\n",
      "\u001b[1mTEST CASE #4\u001b[0m\n",
      "\n",
      "Input:\n",
      "{'cards': [5], 'query': 5}\n",
      "\n",
      "Expected Output:\n",
      "0\n",
      "\n",
      "\n",
      "Actual Output:\n",
      "0\n",
      "\n",
      "Execution Time:\n",
      "0.002 ms\n",
      "\n",
      "Test Result:\n",
      "\u001b[92mPASSED\u001b[0m\n",
      "\n",
      "\n",
      "\u001b[1mTEST CASE #5\u001b[0m\n",
      "\n",
      "Input:\n",
      "{'cards': [9, 7, 5, 2, -9], 'query': 4}\n",
      "\n",
      "Expected Output:\n",
      "-1\n",
      "\n",
      "\n",
      "Actual Output:\n",
      "-1\n",
      "\n",
      "Execution Time:\n",
      "0.005 ms\n",
      "\n",
      "Test Result:\n",
      "\u001b[92mPASSED\u001b[0m\n",
      "\n",
      "\n",
      "\u001b[1mTEST CASE #6\u001b[0m\n",
      "\n",
      "Input:\n",
      "{'cards': [], 'query': 7}\n",
      "\n",
      "Expected Output:\n",
      "-1\n",
      "\n",
      "\n",
      "Actual Output:\n",
      "-1\n",
      "\n",
      "Execution Time:\n",
      "0.003 ms\n",
      "\n",
      "Test Result:\n",
      "\u001b[92mPASSED\u001b[0m\n",
      "\n",
      "\n",
      "\u001b[1mTEST CASE #7\u001b[0m\n",
      "\n",
      "Input:\n",
      "{'cards': [8, 8, 6, 6, 6, 3, 2, 2, 2, 0, 0], 'query': 3}\n",
      "\n",
      "Expected Output:\n",
      "5\n",
      "\n",
      "\n",
      "Actual Output:\n",
      "5\n",
      "\n",
      "Execution Time:\n",
      "0.004 ms\n",
      "\n",
      "Test Result:\n",
      "\u001b[92mPASSED\u001b[0m\n",
      "\n",
      "\n",
      "\u001b[1mTEST CASE #8\u001b[0m\n",
      "\n",
      "Input:\n",
      "{'cards': [8, 8, 6, 6, 6, 3, 2, 2, 0, 0], 'query': 6}\n",
      "\n",
      "Expected Output:\n",
      "2\n",
      "\n",
      "\n",
      "Actual Output:\n",
      "2\n",
      "\n",
      "Execution Time:\n",
      "0.003 ms\n",
      "\n",
      "Test Result:\n",
      "\u001b[92mPASSED\u001b[0m\n",
      "\n",
      "\n",
      "\u001b[1mSUMMARY\u001b[0m\n",
      "\n",
      "TOTAL: 9, \u001b[92mPASSED\u001b[0m: 9, \u001b[91mFAILED\u001b[0m: 0\n"
     ]
    },
    {
     "data": {
      "text/plain": [
       "[(5, True, 0.008),\n",
       " (3, True, 0.004),\n",
       " (0, True, 0.004),\n",
       " (3, True, 0.003),\n",
       " (0, True, 0.002),\n",
       " (-1, True, 0.005),\n",
       " (-1, True, 0.003),\n",
       " (5, True, 0.004),\n",
       " (2, True, 0.003)]"
      ]
     },
     "execution_count": 28,
     "metadata": {},
     "output_type": "execute_result"
    }
   ],
   "source": [
    "evaluate_test_cases(locate_card, tests)"
   ]
  },
  {
   "cell_type": "code",
   "execution_count": 29,
   "id": "7b73f22b-1ba0-49f2-9b49-51efff4c86ff",
   "metadata": {},
   "outputs": [],
   "source": [
    "cards6 = tests[6]['input']['cards']\n",
    "query6 = tests[6]['input']['query']"
   ]
  },
  {
   "cell_type": "code",
   "execution_count": 30,
   "id": "9817b887-4e78-4e6d-abaf-e7499a11f31a",
   "metadata": {},
   "outputs": [
    {
     "data": {
      "text/plain": [
       "{'input': {'cards': [], 'query': 7}, 'output': -1}"
      ]
     },
     "execution_count": 30,
     "metadata": {},
     "output_type": "execute_result"
    }
   ],
   "source": [
    "tests[6]"
   ]
  },
  {
   "cell_type": "code",
   "execution_count": 31,
   "id": "dd6a2421-0aec-439d-84bf-a91e757b392e",
   "metadata": {},
   "outputs": [
    {
     "data": {
      "text/plain": [
       "-1"
      ]
     },
     "execution_count": 31,
     "metadata": {},
     "output_type": "execute_result"
    }
   ],
   "source": [
    "locate_card(cards6, query6)"
   ]
  },
  {
   "cell_type": "code",
   "execution_count": 32,
   "id": "1df37689-825e-444c-b32f-b7982166ed37",
   "metadata": {},
   "outputs": [],
   "source": [
    "def locate_card(cards, query):\n",
    "    lo, hi = 0, len(cards) - 1\n",
    "\n",
    "    while lo <= hi:\n",
    "        mid = (lo + hi) // 2\n",
    "        mid_number = cards[mid]\n",
    "\n",
    "        print(\"lo: \", lo, \", hi:\", hi, \", mid:\", mid, \", mid_number:\", mid_number)\n",
    "\n",
    "        if mid_number == query:\n",
    "            return mid\n",
    "        elif mid_number < query:\n",
    "            hi = mid - 1\n",
    "        elif mid_number > query:\n",
    "            lo = mid + 1\n",
    "    return -1"
   ]
  },
  {
   "cell_type": "code",
   "execution_count": 33,
   "id": "7f7a4064-00a7-47a5-8c55-fe21a8aab44a",
   "metadata": {},
   "outputs": [
    {
     "name": "stdout",
     "output_type": "stream",
     "text": [
      "\n",
      "\u001b[1mTEST CASE #0\u001b[0m\n",
      "lo:  0 , hi: 6 , mid: 3 , mid_number: 6\n",
      "lo:  4 , hi: 6 , mid: 5 , mid_number: 2\n",
      "\n",
      "Input:\n",
      "{'cards': [10, 11, 8, 6, 3, 2, 0], 'query': 2}\n",
      "\n",
      "Expected Output:\n",
      "5\n",
      "\n",
      "\n",
      "Actual Output:\n",
      "5\n",
      "\n",
      "Execution Time:\n",
      "0.127 ms\n",
      "\n",
      "Test Result:\n",
      "\u001b[92mPASSED\u001b[0m\n",
      "\n",
      "\n",
      "\u001b[1mTEST CASE #1\u001b[0m\n",
      "lo:  0 , hi: 6 , mid: 3 , mid_number: 6\n",
      "\n",
      "Input:\n",
      "{'cards': [10, 11, 8, 6, 3, 2, 0], 'query': 6}\n",
      "\n",
      "Expected Output:\n",
      "3\n",
      "\n",
      "\n",
      "Actual Output:\n",
      "3\n",
      "\n",
      "Execution Time:\n",
      "0.063 ms\n",
      "\n",
      "Test Result:\n",
      "\u001b[92mPASSED\u001b[0m\n",
      "\n",
      "\n",
      "\u001b[1mTEST CASE #2\u001b[0m\n",
      "lo:  0 , hi: 3 , mid: 1 , mid_number: 2\n",
      "lo:  0 , hi: 0 , mid: 0 , mid_number: 4\n",
      "\n",
      "Input:\n",
      "{'cards': [4, 2, 1, -1], 'query': 4}\n",
      "\n",
      "Expected Output:\n",
      "0\n",
      "\n",
      "\n",
      "Actual Output:\n",
      "0\n",
      "\n",
      "Execution Time:\n",
      "0.116 ms\n",
      "\n",
      "Test Result:\n",
      "\u001b[92mPASSED\u001b[0m\n",
      "\n",
      "\n",
      "\u001b[1mTEST CASE #3\u001b[0m\n",
      "lo:  0 , hi: 3 , mid: 1 , mid_number: 3\n",
      "lo:  2 , hi: 3 , mid: 2 , mid_number: -1\n",
      "lo:  3 , hi: 3 , mid: 3 , mid_number: -125\n",
      "\n",
      "Input:\n",
      "{'cards': [9, 3, -1, -125], 'query': -125}\n",
      "\n",
      "Expected Output:\n",
      "3\n",
      "\n",
      "\n",
      "Actual Output:\n",
      "3\n",
      "\n",
      "Execution Time:\n",
      "0.132 ms\n",
      "\n",
      "Test Result:\n",
      "\u001b[92mPASSED\u001b[0m\n",
      "\n",
      "\n",
      "\u001b[1mTEST CASE #4\u001b[0m\n",
      "lo:  0 , hi: 0 , mid: 0 , mid_number: 5\n",
      "\n",
      "Input:\n",
      "{'cards': [5], 'query': 5}\n",
      "\n",
      "Expected Output:\n",
      "0\n",
      "\n",
      "\n",
      "Actual Output:\n",
      "0\n",
      "\n",
      "Execution Time:\n",
      "0.05 ms\n",
      "\n",
      "Test Result:\n",
      "\u001b[92mPASSED\u001b[0m\n",
      "\n",
      "\n",
      "\u001b[1mTEST CASE #5\u001b[0m\n",
      "lo:  0 , hi: 4 , mid: 2 , mid_number: 5\n",
      "lo:  3 , hi: 4 , mid: 3 , mid_number: 2\n",
      "\n",
      "Input:\n",
      "{'cards': [9, 7, 5, 2, -9], 'query': 4}\n",
      "\n",
      "Expected Output:\n",
      "-1\n",
      "\n",
      "\n",
      "Actual Output:\n",
      "-1\n",
      "\n",
      "Execution Time:\n",
      "0.092 ms\n",
      "\n",
      "Test Result:\n",
      "\u001b[92mPASSED\u001b[0m\n",
      "\n",
      "\n",
      "\u001b[1mTEST CASE #6\u001b[0m\n",
      "\n",
      "Input:\n",
      "{'cards': [], 'query': 7}\n",
      "\n",
      "Expected Output:\n",
      "-1\n",
      "\n",
      "\n",
      "Actual Output:\n",
      "-1\n",
      "\n",
      "Execution Time:\n",
      "0.002 ms\n",
      "\n",
      "Test Result:\n",
      "\u001b[92mPASSED\u001b[0m\n",
      "\n",
      "\n",
      "\u001b[1mTEST CASE #7\u001b[0m\n",
      "lo:  0 , hi: 10 , mid: 5 , mid_number: 3\n",
      "\n",
      "Input:\n",
      "{'cards': [8, 8, 6, 6, 6, 3, 2, 2, 2, 0, 0], 'query': 3}\n",
      "\n",
      "Expected Output:\n",
      "5\n",
      "\n",
      "\n",
      "Actual Output:\n",
      "5\n",
      "\n",
      "Execution Time:\n",
      "0.068 ms\n",
      "\n",
      "Test Result:\n",
      "\u001b[92mPASSED\u001b[0m\n",
      "\n",
      "\n",
      "\u001b[1mTEST CASE #8\u001b[0m\n",
      "lo:  0 , hi: 9 , mid: 4 , mid_number: 6\n",
      "\n",
      "Input:\n",
      "{'cards': [8, 8, 6, 6, 6, 3, 2, 2, 0, 0], 'query': 6}\n",
      "\n",
      "Expected Output:\n",
      "2\n",
      "\n",
      "\n",
      "Actual Output:\n",
      "4\n",
      "\n",
      "Execution Time:\n",
      "0.045 ms\n",
      "\n",
      "Test Result:\n",
      "\u001b[91mFAILED\u001b[0m\n",
      "\n",
      "\n",
      "\u001b[1mSUMMARY\u001b[0m\n",
      "\n",
      "TOTAL: 9, \u001b[92mPASSED\u001b[0m: 8, \u001b[91mFAILED\u001b[0m: 1\n"
     ]
    },
    {
     "data": {
      "text/plain": [
       "[(5, True, 0.127),\n",
       " (3, True, 0.063),\n",
       " (0, True, 0.116),\n",
       " (3, True, 0.132),\n",
       " (0, True, 0.05),\n",
       " (-1, True, 0.092),\n",
       " (-1, True, 0.002),\n",
       " (5, True, 0.068),\n",
       " (4, False, 0.045)]"
      ]
     },
     "execution_count": 33,
     "metadata": {},
     "output_type": "execute_result"
    }
   ],
   "source": [
    "evaluate_test_cases(locate_card, tests)"
   ]
  },
  {
   "cell_type": "code",
   "execution_count": 34,
   "id": "2028877d-138d-4f2f-ad0e-0636a95b4173",
   "metadata": {},
   "outputs": [],
   "source": [
    "cards8 = tests[8]['input']['cards']\n",
    "query8 = tests[8]['input']['query']"
   ]
  },
  {
   "cell_type": "code",
   "execution_count": 35,
   "id": "5615f95d-1279-4b8b-86c5-7808ba30b815",
   "metadata": {},
   "outputs": [
    {
     "data": {
      "text/plain": [
       "[8, 8, 6, 6, 6, 3, 2, 2, 0, 0]"
      ]
     },
     "execution_count": 35,
     "metadata": {},
     "output_type": "execute_result"
    }
   ],
   "source": [
    "cards8"
   ]
  },
  {
   "cell_type": "code",
   "execution_count": 36,
   "id": "ff925e6a-52bc-427a-9ee8-75c0ce90b0be",
   "metadata": {},
   "outputs": [
    {
     "data": {
      "text/plain": [
       "6"
      ]
     },
     "execution_count": 36,
     "metadata": {},
     "output_type": "execute_result"
    }
   ],
   "source": [
    "query8"
   ]
  },
  {
   "cell_type": "code",
   "execution_count": 37,
   "id": "9256c90f-7f35-4193-b6d0-cdab7e6bb19f",
   "metadata": {},
   "outputs": [
    {
     "data": {
      "text/plain": [
       "6"
      ]
     },
     "execution_count": 37,
     "metadata": {},
     "output_type": "execute_result"
    }
   ],
   "source": [
    "cards8[4]"
   ]
  },
  {
   "cell_type": "markdown",
   "id": "2c7b55ae-cf03-4278-8a8b-b790b2cefeeb",
   "metadata": {},
   "source": [
    "```\n",
    "Manual Analysis\n",
    "\n",
    "[9, 8, 7, 6, 4, 3, 2]\n",
    "find = 7\n",
    "\n",
    "lo = 0\n",
    "h1 = 6\n",
    "\n",
    "mid = 3\n",
    "\n",
    "hi = mid - 1\n",
    "\n",
    "# step 2\n",
    "lo = 0\n",
    "h1 = 2\n",
    "\n",
    "mid = 1\n",
    "\n",
    "lo = mid + 1\n",
    "\n",
    "# step 3\n",
    "lo = 1\n",
    "hi = 2\n",
    "\n",
    "mid = 1\n",
    "\n",
    "lo = mid + 1\n",
    "\n",
    "# step 4\n",
    "lo = 2\n",
    "hi = 2\n",
    "\n",
    "mid = 2\n",
    "\n",
    "return the results! we got the number!\n",
    "\n",
    "# condition\n",
    "if list[mid] > query\n",
    "then lo += 1\n",
    "\n",
    "if list[mid] < query\n",
    "then hi -= 1\n",
    "```"
   ]
  },
  {
   "cell_type": "code",
   "execution_count": 38,
   "id": "5654fb51-c89e-4079-aee7-aab3e7d33d1a",
   "metadata": {},
   "outputs": [],
   "source": [
    "def test_location(cards, query, mid):\n",
    "    mid_number = cards[mid]\n",
    "    if mid_number == query:\n",
    "        if mid-1 >= 0 and cards[mid-1] == query:\n",
    "            return 'left'\n",
    "        else:\n",
    "            return 'found'\n",
    "    elif mid_number < query:\n",
    "        return 'left'\n",
    "    else:\n",
    "        return 'right'\n",
    "\n",
    "def locate_card(cards, query):\n",
    "    lo, hi = 0, len(cards) - 1\n",
    "\n",
    "    while lo <= hi:\n",
    "        mid = (hi + lo) // 2\n",
    "        result = test_location(cards, query, mid)\n",
    "\n",
    "        if result == 'found':\n",
    "            return mid\n",
    "        elif result == 'left':\n",
    "            hi = mid - 1\n",
    "        elif result == 'right':\n",
    "            lo = mid + 1\n",
    "            \n",
    "    return -1"
   ]
  },
  {
   "cell_type": "code",
   "execution_count": 39,
   "id": "f1199ef8-f39e-4156-be8b-6297d58845a2",
   "metadata": {},
   "outputs": [
    {
     "name": "stdout",
     "output_type": "stream",
     "text": [
      "\n",
      "\u001b[1mTEST CASE #0\u001b[0m\n",
      "\n",
      "Input:\n",
      "{'cards': [10, 11, 8, 6, 3, 2, 0], 'query': 2}\n",
      "\n",
      "Expected Output:\n",
      "5\n",
      "\n",
      "\n",
      "Actual Output:\n",
      "5\n",
      "\n",
      "Execution Time:\n",
      "0.013 ms\n",
      "\n",
      "Test Result:\n",
      "\u001b[92mPASSED\u001b[0m\n",
      "\n",
      "\n",
      "\u001b[1mTEST CASE #1\u001b[0m\n",
      "\n",
      "Input:\n",
      "{'cards': [10, 11, 8, 6, 3, 2, 0], 'query': 6}\n",
      "\n",
      "Expected Output:\n",
      "3\n",
      "\n",
      "\n",
      "Actual Output:\n",
      "3\n",
      "\n",
      "Execution Time:\n",
      "0.005 ms\n",
      "\n",
      "Test Result:\n",
      "\u001b[92mPASSED\u001b[0m\n",
      "\n",
      "\n",
      "\u001b[1mTEST CASE #2\u001b[0m\n",
      "\n",
      "Input:\n",
      "{'cards': [4, 2, 1, -1], 'query': 4}\n",
      "\n",
      "Expected Output:\n",
      "0\n",
      "\n",
      "\n",
      "Actual Output:\n",
      "0\n",
      "\n",
      "Execution Time:\n",
      "0.006 ms\n",
      "\n",
      "Test Result:\n",
      "\u001b[92mPASSED\u001b[0m\n",
      "\n",
      "\n",
      "\u001b[1mTEST CASE #3\u001b[0m\n",
      "\n",
      "Input:\n",
      "{'cards': [9, 3, -1, -125], 'query': -125}\n",
      "\n",
      "Expected Output:\n",
      "3\n",
      "\n",
      "\n",
      "Actual Output:\n",
      "3\n",
      "\n",
      "Execution Time:\n",
      "0.006 ms\n",
      "\n",
      "Test Result:\n",
      "\u001b[92mPASSED\u001b[0m\n",
      "\n",
      "\n",
      "\u001b[1mTEST CASE #4\u001b[0m\n",
      "\n",
      "Input:\n",
      "{'cards': [5], 'query': 5}\n",
      "\n",
      "Expected Output:\n",
      "0\n",
      "\n",
      "\n",
      "Actual Output:\n",
      "0\n",
      "\n",
      "Execution Time:\n",
      "0.005 ms\n",
      "\n",
      "Test Result:\n",
      "\u001b[92mPASSED\u001b[0m\n",
      "\n",
      "\n",
      "\u001b[1mTEST CASE #5\u001b[0m\n",
      "\n",
      "Input:\n",
      "{'cards': [9, 7, 5, 2, -9], 'query': 4}\n",
      "\n",
      "Expected Output:\n",
      "-1\n",
      "\n",
      "\n",
      "Actual Output:\n",
      "-1\n",
      "\n",
      "Execution Time:\n",
      "0.007 ms\n",
      "\n",
      "Test Result:\n",
      "\u001b[92mPASSED\u001b[0m\n",
      "\n",
      "\n",
      "\u001b[1mTEST CASE #6\u001b[0m\n",
      "\n",
      "Input:\n",
      "{'cards': [], 'query': 7}\n",
      "\n",
      "Expected Output:\n",
      "-1\n",
      "\n",
      "\n",
      "Actual Output:\n",
      "-1\n",
      "\n",
      "Execution Time:\n",
      "0.004 ms\n",
      "\n",
      "Test Result:\n",
      "\u001b[92mPASSED\u001b[0m\n",
      "\n",
      "\n",
      "\u001b[1mTEST CASE #7\u001b[0m\n",
      "\n",
      "Input:\n",
      "{'cards': [8, 8, 6, 6, 6, 3, 2, 2, 2, 0, 0], 'query': 3}\n",
      "\n",
      "Expected Output:\n",
      "5\n",
      "\n",
      "\n",
      "Actual Output:\n",
      "5\n",
      "\n",
      "Execution Time:\n",
      "0.008 ms\n",
      "\n",
      "Test Result:\n",
      "\u001b[92mPASSED\u001b[0m\n",
      "\n",
      "\n",
      "\u001b[1mTEST CASE #8\u001b[0m\n",
      "\n",
      "Input:\n",
      "{'cards': [8, 8, 6, 6, 6, 3, 2, 2, 0, 0], 'query': 6}\n",
      "\n",
      "Expected Output:\n",
      "2\n",
      "\n",
      "\n",
      "Actual Output:\n",
      "2\n",
      "\n",
      "Execution Time:\n",
      "0.006 ms\n",
      "\n",
      "Test Result:\n",
      "\u001b[92mPASSED\u001b[0m\n",
      "\n",
      "\n",
      "\u001b[1mSUMMARY\u001b[0m\n",
      "\n",
      "TOTAL: 9, \u001b[92mPASSED\u001b[0m: 9, \u001b[91mFAILED\u001b[0m: 0\n"
     ]
    },
    {
     "data": {
      "text/plain": [
       "[(5, True, 0.013),\n",
       " (3, True, 0.005),\n",
       " (0, True, 0.006),\n",
       " (3, True, 0.006),\n",
       " (0, True, 0.005),\n",
       " (-1, True, 0.007),\n",
       " (-1, True, 0.004),\n",
       " (5, True, 0.008),\n",
       " (2, True, 0.006)]"
      ]
     },
     "execution_count": 39,
     "metadata": {},
     "output_type": "execute_result"
    }
   ],
   "source": [
    "evaluate_test_cases(locate_card, tests)"
   ]
  },
  {
   "cell_type": "markdown",
   "id": "5441289a-b5dd-4be4-a40c-137f779aee4d",
   "metadata": {},
   "source": [
    "## Time Complexity"
   ]
  },
  {
   "cell_type": "code",
   "execution_count": 40,
   "id": "be6552d1-a632-4396-9fc5-c3dc12ae0086",
   "metadata": {},
   "outputs": [],
   "source": [
    "def locate_card_linear(cards, query):\n",
    "    position = 0\n",
    "    while position < len(cards):\n",
    "        if cards[position] == query:\n",
    "            return position\n",
    "        position += 1\n",
    "    return -1"
   ]
  },
  {
   "cell_type": "code",
   "execution_count": 41,
   "id": "38e5f46e-7046-46c9-940b-2021ad8cafff",
   "metadata": {},
   "outputs": [],
   "source": [
    "large_test = {\n",
    "    'input': {\n",
    "        'cards': list(range(10000000, 0, -1)),\n",
    "        'query': 2\n",
    "    },\n",
    "    'output': 9999998\n",
    "}"
   ]
  },
  {
   "cell_type": "code",
   "execution_count": 42,
   "id": "be9c0aa0-d77f-4b61-b33a-98a719e2464e",
   "metadata": {},
   "outputs": [
    {
     "name": "stdout",
     "output_type": "stream",
     "text": [
      "9999998\n"
     ]
    }
   ],
   "source": [
    "result, passed, runtime = evaluate_test_case(locate_card_linear, large_test, display=False)\n",
    "\n",
    "print(result)"
   ]
  },
  {
   "cell_type": "markdown",
   "id": "e941f601-2c95-4ab9-b185-4e96ff347237",
   "metadata": {},
   "source": [
    "## Generic BS"
   ]
  },
  {
   "cell_type": "code",
   "execution_count": 43,
   "id": "8f612d48-4d4c-49cc-b4b6-fc163a72dea7",
   "metadata": {},
   "outputs": [],
   "source": [
    "def binary_search(lo, hi, condition):\n",
    "    while lo <= hi:\n",
    "        mid = (lo + hi) // 2\n",
    "        result = condition(mid)\n",
    "        if result == 'found':\n",
    "            return mid\n",
    "        elif result == 'left':\n",
    "            hi = mid - 1\n",
    "        else: \n",
    "            lo = mid + 1\n",
    "    return -1"
   ]
  },
  {
   "cell_type": "code",
   "execution_count": 44,
   "id": "e8a6d717-3f82-4803-ae50-6edf1c627a4a",
   "metadata": {},
   "outputs": [],
   "source": [
    "def locate_card(cards, query):\n",
    "    def condition(mid):\n",
    "        if cards[mid] == query:\n",
    "            if mid > 0 and cards[mid - 1] == query:\n",
    "                return 'left'\n",
    "            else:\n",
    "                return 'found'\n",
    "        elif cards[mid] < query:\n",
    "            return 'left'\n",
    "        else:\n",
    "            return 'right'\n",
    "\n",
    "    return binary_search(0, len(cards) - 1, condition)"
   ]
  },
  {
   "cell_type": "code",
   "execution_count": 45,
   "id": "f8eff0c6-8206-4276-81ea-595071424bf0",
   "metadata": {},
   "outputs": [
    {
     "name": "stdout",
     "output_type": "stream",
     "text": [
      "\n",
      "\u001b[1mTEST CASE #0\u001b[0m\n",
      "\n",
      "Input:\n",
      "{'cards': [10, 11, 8, 6, 3, 2, 0], 'query': 2}\n",
      "\n",
      "Expected Output:\n",
      "5\n",
      "\n",
      "\n",
      "Actual Output:\n",
      "5\n",
      "\n",
      "Execution Time:\n",
      "0.018 ms\n",
      "\n",
      "Test Result:\n",
      "\u001b[92mPASSED\u001b[0m\n",
      "\n",
      "\n",
      "\u001b[1mTEST CASE #1\u001b[0m\n",
      "\n",
      "Input:\n",
      "{'cards': [10, 11, 8, 6, 3, 2, 0], 'query': 6}\n",
      "\n",
      "Expected Output:\n",
      "3\n",
      "\n",
      "\n",
      "Actual Output:\n",
      "3\n",
      "\n",
      "Execution Time:\n",
      "0.009 ms\n",
      "\n",
      "Test Result:\n",
      "\u001b[92mPASSED\u001b[0m\n",
      "\n",
      "\n",
      "\u001b[1mTEST CASE #2\u001b[0m\n",
      "\n",
      "Input:\n",
      "{'cards': [4, 2, 1, -1], 'query': 4}\n",
      "\n",
      "Expected Output:\n",
      "0\n",
      "\n",
      "\n",
      "Actual Output:\n",
      "0\n",
      "\n",
      "Execution Time:\n",
      "0.009 ms\n",
      "\n",
      "Test Result:\n",
      "\u001b[92mPASSED\u001b[0m\n",
      "\n",
      "\n",
      "\u001b[1mTEST CASE #3\u001b[0m\n",
      "\n",
      "Input:\n",
      "{'cards': [9, 3, -1, -125], 'query': -125}\n",
      "\n",
      "Expected Output:\n",
      "3\n",
      "\n",
      "\n",
      "Actual Output:\n",
      "3\n",
      "\n",
      "Execution Time:\n",
      "0.011 ms\n",
      "\n",
      "Test Result:\n",
      "\u001b[92mPASSED\u001b[0m\n",
      "\n",
      "\n",
      "\u001b[1mTEST CASE #4\u001b[0m\n",
      "\n",
      "Input:\n",
      "{'cards': [5], 'query': 5}\n",
      "\n",
      "Expected Output:\n",
      "0\n",
      "\n",
      "\n",
      "Actual Output:\n",
      "0\n",
      "\n",
      "Execution Time:\n",
      "0.006 ms\n",
      "\n",
      "Test Result:\n",
      "\u001b[92mPASSED\u001b[0m\n",
      "\n",
      "\n",
      "\u001b[1mTEST CASE #5\u001b[0m\n",
      "\n",
      "Input:\n",
      "{'cards': [9, 7, 5, 2, -9], 'query': 4}\n",
      "\n",
      "Expected Output:\n",
      "-1\n",
      "\n",
      "\n",
      "Actual Output:\n",
      "-1\n",
      "\n",
      "Execution Time:\n",
      "0.007 ms\n",
      "\n",
      "Test Result:\n",
      "\u001b[92mPASSED\u001b[0m\n",
      "\n",
      "\n",
      "\u001b[1mTEST CASE #6\u001b[0m\n",
      "\n",
      "Input:\n",
      "{'cards': [], 'query': 7}\n",
      "\n",
      "Expected Output:\n",
      "-1\n",
      "\n",
      "\n",
      "Actual Output:\n",
      "-1\n",
      "\n",
      "Execution Time:\n",
      "0.006 ms\n",
      "\n",
      "Test Result:\n",
      "\u001b[92mPASSED\u001b[0m\n",
      "\n",
      "\n",
      "\u001b[1mTEST CASE #7\u001b[0m\n",
      "\n",
      "Input:\n",
      "{'cards': [8, 8, 6, 6, 6, 3, 2, 2, 2, 0, 0], 'query': 3}\n",
      "\n",
      "Expected Output:\n",
      "5\n",
      "\n",
      "\n",
      "Actual Output:\n",
      "5\n",
      "\n",
      "Execution Time:\n",
      "0.506 ms\n",
      "\n",
      "Test Result:\n",
      "\u001b[92mPASSED\u001b[0m\n",
      "\n",
      "\n",
      "\u001b[1mTEST CASE #8\u001b[0m\n",
      "\n",
      "Input:\n",
      "{'cards': [8, 8, 6, 6, 6, 3, 2, 2, 0, 0], 'query': 6}\n",
      "\n",
      "Expected Output:\n",
      "2\n",
      "\n",
      "\n",
      "Actual Output:\n",
      "2\n",
      "\n",
      "Execution Time:\n",
      "0.009 ms\n",
      "\n",
      "Test Result:\n",
      "\u001b[92mPASSED\u001b[0m\n",
      "\n",
      "\n",
      "\u001b[1mSUMMARY\u001b[0m\n",
      "\n",
      "TOTAL: 9, \u001b[92mPASSED\u001b[0m: 9, \u001b[91mFAILED\u001b[0m: 0\n"
     ]
    },
    {
     "data": {
      "text/plain": [
       "[(5, True, 0.018),\n",
       " (3, True, 0.009),\n",
       " (0, True, 0.009),\n",
       " (3, True, 0.011),\n",
       " (0, True, 0.006),\n",
       " (-1, True, 0.007),\n",
       " (-1, True, 0.006),\n",
       " (5, True, 0.506),\n",
       " (2, True, 0.009)]"
      ]
     },
     "execution_count": 45,
     "metadata": {},
     "output_type": "execute_result"
    }
   ],
   "source": [
    "evaluate_test_cases(locate_card, tests)"
   ]
  },
  {
   "cell_type": "code",
   "execution_count": 54,
   "id": "c4f871b0-c3b6-43af-b58e-cd4bf58ff20a",
   "metadata": {},
   "outputs": [],
   "source": [
    "test = {\n",
    "    'input': {\n",
    "        'nums': [0, 1, 2, 2, 3, 4 ,5 ,6],\n",
    "        'target': 2\n",
    "    }, \n",
    "    'output': [2, 3]\n",
    "}"
   ]
  },
  {
   "cell_type": "code",
   "execution_count": 55,
   "id": "b6422e67-3315-410c-b998-f051b2d4bc23",
   "metadata": {},
   "outputs": [
    {
     "data": {
      "text/plain": [
       "{'input': {'nums': [0, 1, 2, 2, 3, 4, 5, 6], 'target': 2}, 'output': [2, 3]}"
      ]
     },
     "execution_count": 55,
     "metadata": {},
     "output_type": "execute_result"
    }
   ],
   "source": [
    "test"
   ]
  },
  {
   "cell_type": "code",
   "execution_count": 56,
   "id": "1d39a0ed-812f-43c9-aade-5235b9879538",
   "metadata": {},
   "outputs": [],
   "source": [
    "def binary_search(lo, hi, condition):\n",
    "    while lo <= hi:\n",
    "        mid = (lo + hi) // 2\n",
    "        result = condition(mid)\n",
    "        if result == 'found':\n",
    "            return mid\n",
    "        elif result == 'left':\n",
    "            hi = mid - 1\n",
    "        elif result == 'right':\n",
    "            lo = mid + 1\n",
    "    return -1"
   ]
  },
  {
   "cell_type": "code",
   "execution_count": 78,
   "id": "66ce4a56-7bf8-400b-a738-0d701388cc7a",
   "metadata": {},
   "outputs": [],
   "source": [
    "def locate_first(nums, target):\n",
    "    def condition(mid):\n",
    "        if nums[mid] == target:\n",
    "            if mid > 0 and nums[mid-1] == target:\n",
    "                return 'left'\n",
    "            else:\n",
    "                return 'found'\n",
    "        elif nums[mid] > target:\n",
    "            return 'left'\n",
    "        elif nums[mid] < target:\n",
    "            return 'right'\n",
    "\n",
    "    return binary_search(0, len(nums)-1, condition)"
   ]
  },
  {
   "cell_type": "code",
   "execution_count": 79,
   "id": "07dd3fd9-860b-4944-8376-f68d66ca3682",
   "metadata": {},
   "outputs": [],
   "source": [
    "def locate_last(nums, target):\n",
    "    def condition(mid):\n",
    "        if nums[mid] == target:\n",
    "            if mid < len(nums)-1 and nums[mid+1] == target:\n",
    "                return 'right'\n",
    "            else:\n",
    "                return 'found'\n",
    "        elif nums[mid] > target:\n",
    "            return 'left'\n",
    "        elif nums[mid] < target:\n",
    "            return 'right'\n",
    "            \n",
    "    return binary_search(0, len(nums)-1, condition)"
   ]
  },
  {
   "cell_type": "code",
   "execution_count": 80,
   "id": "ceb54e13-e3f5-4d0c-80eb-68f2e4d7334a",
   "metadata": {},
   "outputs": [],
   "source": [
    "test_locate_first = {\n",
    "    'input': {\n",
    "        'nums': [0, 1, 2, 2, 3, 4 ,5 ,6],\n",
    "        'target': 2\n",
    "    }, \n",
    "    'output': [2, 3]\n",
    "}"
   ]
  },
  {
   "cell_type": "code",
   "execution_count": 81,
   "id": "4868b4f4-a3f9-4118-b8d8-8a31a689693b",
   "metadata": {},
   "outputs": [],
   "source": [
    "def locate_start_end_position(nums, target):\n",
    "    return [locate_first(nums, target), locate_last(nums, target)]"
   ]
  },
  {
   "cell_type": "code",
   "execution_count": 82,
   "id": "7435eb23-7658-4a7f-994a-496713e05129",
   "metadata": {},
   "outputs": [
    {
     "data": {
      "text/plain": [
       "[2, 3]"
      ]
     },
     "execution_count": 82,
     "metadata": {},
     "output_type": "execute_result"
    }
   ],
   "source": [
    "locate_start_end_position(**test_locate_first['input'])"
   ]
  },
  {
   "cell_type": "code",
   "execution_count": 83,
   "id": "acb9a9a3-9c58-4022-ae8b-7d7694c29709",
   "metadata": {},
   "outputs": [
    {
     "name": "stdout",
     "output_type": "stream",
     "text": [
      "\n",
      "Input:\n",
      "{'nums': [0, 1, 2, 2, 3, 4, 5, 6], 'target': 2}\n",
      "\n",
      "Expected Output:\n",
      "[2, 3]\n",
      "\n",
      "\n",
      "Actual Output:\n",
      "[2, 3]\n",
      "\n",
      "Execution Time:\n",
      "0.022 ms\n",
      "\n",
      "Test Result:\n",
      "\u001b[92mPASSED\u001b[0m\n",
      "\n"
     ]
    },
    {
     "data": {
      "text/plain": [
       "([2, 3], True, 0.022)"
      ]
     },
     "execution_count": 83,
     "metadata": {},
     "output_type": "execute_result"
    }
   ],
   "source": [
    "evaluate_test_case(locate_start_end_position, test_locate_first)"
   ]
  },
  {
   "cell_type": "code",
   "execution_count": null,
   "id": "ba37efad-0074-439c-b95c-a74b4a4a2863",
   "metadata": {},
   "outputs": [],
   "source": []
  }
 ],
 "metadata": {
  "kernelspec": {
   "display_name": "Python 3 (ipykernel)",
   "language": "python",
   "name": "python3"
  },
  "language_info": {
   "codemirror_mode": {
    "name": "ipython",
    "version": 3
   },
   "file_extension": ".py",
   "mimetype": "text/x-python",
   "name": "python",
   "nbconvert_exporter": "python",
   "pygments_lexer": "ipython3",
   "version": "3.12.5"
  }
 },
 "nbformat": 4,
 "nbformat_minor": 5
}
