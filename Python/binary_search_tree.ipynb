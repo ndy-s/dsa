{
 "cells": [
  {
   "cell_type": "markdown",
   "id": "4145b93b-cab9-4a6f-bd58-b6f3c01b3d67",
   "metadata": {},
   "source": [
    "## Problem\n",
    "\n",
    "We need to create a data structure with 100 mill. users that contains profile information (username, name, and email) as efficient as possible."
   ]
  },
  {
   "cell_type": "markdown",
   "id": "58a51306-7219-4ad7-b203-2bdb4a69591e",
   "metadata": {},
   "source": [
    "## Solution"
   ]
  },
  {
   "cell_type": "code",
   "execution_count": 1,
   "id": "c5d06b5b-4edf-45ea-8d91-a1d555b8a044",
   "metadata": {},
   "outputs": [],
   "source": [
    "class User:\n",
    "    def __init__(self, username, name, email):\n",
    "        self.username = username\n",
    "        self.name = name\n",
    "        self.email = email\n",
    "\n",
    "    def __repr__(self):\n",
    "        return \"User(username='{}', name='{}', email='{}')\".format(self.username, self.name, self.email)\n",
    "\n",
    "    def __str__(self):\n",
    "        return self.__repr__()"
   ]
  },
  {
   "cell_type": "code",
   "execution_count": 2,
   "id": "70c048ef-dfe6-4c94-8554-da01083d181f",
   "metadata": {},
   "outputs": [],
   "source": [
    "user1 = User('jane', 'Jane Doe', 'jane@doe.com')"
   ]
  },
  {
   "cell_type": "code",
   "execution_count": 3,
   "id": "26b8193c-5a6b-4c60-a889-adb11fb78f01",
   "metadata": {},
   "outputs": [
    {
     "data": {
      "text/plain": [
       "User(username='jane', name='Jane Doe', email='jane@doe.com')"
      ]
     },
     "execution_count": 3,
     "metadata": {},
     "output_type": "execute_result"
    }
   ],
   "source": [
    "user1"
   ]
  },
  {
   "cell_type": "code",
   "execution_count": 4,
   "id": "902bb14e-6927-4898-a16b-fc2796e3c6db",
   "metadata": {},
   "outputs": [],
   "source": [
    "class UserDatabase:\n",
    "    def insert(self, user):\n",
    "        pass\n",
    "\n",
    "    def find(self, username):\n",
    "        pass\n",
    "\n",
    "    def update(self, user):\n",
    "        pass\n",
    "\n",
    "    def list_all(self):\n",
    "        pass"
   ]
  },
  {
   "cell_type": "code",
   "execution_count": 5,
   "id": "df38d9a9-2a4f-429b-881f-1642783e641e",
   "metadata": {},
   "outputs": [],
   "source": [
    "aakash = User('aakash', 'Aakash Rai', 'aakash@example.com')\n",
    "biraj = User('biraj', 'Biraj Das', 'biraj@example.com')\n",
    "hemanth = User('hemanth', 'Hemanth Jain', 'hemanth@example.com')\n",
    "jadhesh = User('jadhesh', 'Jadhesh Verma', 'jadhesh@example.com')\n",
    "siddhant = User('siddhant', 'Siddhant Sinha', 'siddhant@example.com')\n",
    "sonaksh = User('sonaksh', 'Sonaksh Kumar', 'sonaksh@example.com')\n",
    "vishal = User('vishal', 'Vishal Goel', 'vishal@example.com')\n",
    "tanya = User('tanya', 'Tanya Dong', 'tanya@example.com')"
   ]
  },
  {
   "cell_type": "code",
   "execution_count": 6,
   "id": "482b94a1-3e58-451e-a25e-e74a289abbeb",
   "metadata": {},
   "outputs": [
    {
     "data": {
      "text/plain": [
       "[User(username='aakash', name='Aakash Rai', email='aakash@example.com'),\n",
       " User(username='biraj', name='Biraj Das', email='biraj@example.com'),\n",
       " User(username='hemanth', name='Hemanth Jain', email='hemanth@example.com'),\n",
       " User(username='jadhesh', name='Jadhesh Verma', email='jadhesh@example.com'),\n",
       " User(username='siddhant', name='Siddhant Sinha', email='siddhant@example.com'),\n",
       " User(username='sonaksh', name='Sonaksh Kumar', email='sonaksh@example.com'),\n",
       " User(username='vishal', name='Vishal Goel', email='vishal@example.com')]"
      ]
     },
     "execution_count": 6,
     "metadata": {},
     "output_type": "execute_result"
    }
   ],
   "source": [
    "users = [aakash, biraj, hemanth, jadhesh, siddhant, sonaksh, vishal]\n",
    "users"
   ]
  },
  {
   "cell_type": "code",
   "execution_count": 7,
   "id": "52217a1c-897a-4019-8cd7-54999f2a515e",
   "metadata": {},
   "outputs": [
    {
     "data": {
      "text/plain": [
       "('biraj', 'biraj@example.com', 'Biraj Das')"
      ]
     },
     "execution_count": 7,
     "metadata": {},
     "output_type": "execute_result"
    }
   ],
   "source": [
    "biraj.username, biraj.email, biraj.name"
   ]
  },
  {
   "cell_type": "code",
   "execution_count": 8,
   "id": "7bea8e1e-5de6-47a9-a20a-bef2bd140e12",
   "metadata": {},
   "outputs": [
    {
     "name": "stdout",
     "output_type": "stream",
     "text": [
      "User(username='aakash', name='Aakash Rai', email='aakash@example.com')\n"
     ]
    }
   ],
   "source": [
    "print(aakash)"
   ]
  },
  {
   "cell_type": "markdown",
   "id": "47ccf819-1061-4a3c-9bb5-fa6d8c0e8c2b",
   "metadata": {},
   "source": [
    "## Solution in plain English\n",
    "\n",
    "1. Insert: loop through the list and add the new user at the position that keeps the list sorted.\n",
    "2. Find: loop through the list and find the user object with the username matching the query\n",
    "3. Update: Loop through the list and find the user object matching the query and update the details\n",
    "4. List: Return the list of user objects"
   ]
  },
  {
   "cell_type": "code",
   "execution_count": 9,
   "id": "734f52b0-f448-4e93-b685-9600b3834553",
   "metadata": {},
   "outputs": [],
   "source": [
    "class UserDatabase:\n",
    "    def __init__(self):\n",
    "        self.users = []\n",
    "\n",
    "    def insert(self, user):\n",
    "        i = 0\n",
    "        while i < len(self.users):\n",
    "            if self.users[i].username > user.username:\n",
    "                break\n",
    "            i += 1\n",
    "        self.users.insert(i, user)\n",
    "\n",
    "    def find(self, username):\n",
    "        for user in self.users:\n",
    "            if user.username == username:\n",
    "                return user\n",
    "\n",
    "    def update(self, user):\n",
    "        target = self.find(user.username)\n",
    "        target.name, target.email = user.name, user.email\n",
    "\n",
    "    def list_all(self):\n",
    "        return self.users"
   ]
  },
  {
   "cell_type": "code",
   "execution_count": 10,
   "id": "c9ed1b66-bd38-4cb2-ad15-850b107a9a12",
   "metadata": {},
   "outputs": [],
   "source": [
    "database = UserDatabase()"
   ]
  },
  {
   "cell_type": "code",
   "execution_count": 11,
   "id": "086aef45-e456-45f1-bf1b-4e300393ec66",
   "metadata": {},
   "outputs": [],
   "source": [
    "database.insert(hemanth)\n",
    "database.insert(aakash)\n",
    "database.insert(siddhant)"
   ]
  },
  {
   "cell_type": "code",
   "execution_count": 12,
   "id": "44797c44-9628-4976-b00a-b585ab69fd1a",
   "metadata": {},
   "outputs": [
    {
     "data": {
      "text/plain": [
       "User(username='siddhant', name='Siddhant Sinha', email='siddhant@example.com')"
      ]
     },
     "execution_count": 12,
     "metadata": {},
     "output_type": "execute_result"
    }
   ],
   "source": [
    "user = database.find('siddhant')\n",
    "user"
   ]
  },
  {
   "cell_type": "code",
   "execution_count": 13,
   "id": "ea2ccd88-6c0b-458e-a27f-655889f2a506",
   "metadata": {},
   "outputs": [],
   "source": [
    "database.update(User(username='siddhant', name='Siddhant U', email='siddhantu@example.com'))"
   ]
  },
  {
   "cell_type": "code",
   "execution_count": 14,
   "id": "f2c091c5-dbb8-4800-bc9a-827fc641e428",
   "metadata": {},
   "outputs": [
    {
     "data": {
      "text/plain": [
       "User(username='siddhant', name='Siddhant U', email='siddhantu@example.com')"
      ]
     },
     "execution_count": 14,
     "metadata": {},
     "output_type": "execute_result"
    }
   ],
   "source": [
    "user = database.find('siddhant')\n",
    "user"
   ]
  },
  {
   "cell_type": "code",
   "execution_count": 15,
   "id": "75288140-28df-4cce-b205-ddd3adb4d1ff",
   "metadata": {},
   "outputs": [
    {
     "data": {
      "text/plain": [
       "[User(username='aakash', name='Aakash Rai', email='aakash@example.com'),\n",
       " User(username='hemanth', name='Hemanth Jain', email='hemanth@example.com'),\n",
       " User(username='siddhant', name='Siddhant U', email='siddhantu@example.com')]"
      ]
     },
     "execution_count": 15,
     "metadata": {},
     "output_type": "execute_result"
    }
   ],
   "source": [
    "database.list_all()"
   ]
  },
  {
   "cell_type": "code",
   "execution_count": 16,
   "id": "798d2fd9-73d7-46f1-817d-d350217a53f0",
   "metadata": {},
   "outputs": [],
   "source": [
    "database.insert(biraj)"
   ]
  },
  {
   "cell_type": "code",
   "execution_count": 17,
   "id": "7aa00d4d-c358-436e-b429-c9782bec0eee",
   "metadata": {},
   "outputs": [
    {
     "data": {
      "text/plain": [
       "[User(username='aakash', name='Aakash Rai', email='aakash@example.com'),\n",
       " User(username='biraj', name='Biraj Das', email='biraj@example.com'),\n",
       " User(username='hemanth', name='Hemanth Jain', email='hemanth@example.com'),\n",
       " User(username='siddhant', name='Siddhant U', email='siddhantu@example.com')]"
      ]
     },
     "execution_count": 17,
     "metadata": {},
     "output_type": "execute_result"
    }
   ],
   "source": [
    "database.list_all()"
   ]
  },
  {
   "cell_type": "markdown",
   "id": "fc780176-ff97-410e-9542-ef7ee3c58d7f",
   "metadata": {},
   "source": [
    "## Balanced Binary Search Tree Solution"
   ]
  },
  {
   "cell_type": "code",
   "execution_count": 18,
   "id": "e3f66903-4d7f-42bf-9ed6-74eacf8b1b62",
   "metadata": {},
   "outputs": [],
   "source": [
    "class TreeNode:\n",
    "    def __init__(self, key):\n",
    "        self.key = key\n",
    "        self.left = None\n",
    "        self.right = None"
   ]
  },
  {
   "cell_type": "code",
   "execution_count": 19,
   "id": "429fdd89-3e97-4646-8264-016170db6b79",
   "metadata": {},
   "outputs": [],
   "source": [
    "node0 = TreeNode(3)\n",
    "node1 = TreeNode(4)\n",
    "node2 = TreeNode(5)"
   ]
  },
  {
   "cell_type": "code",
   "execution_count": 20,
   "id": "b22f4537-c370-4bb7-b9c0-933fcfe20080",
   "metadata": {},
   "outputs": [
    {
     "data": {
      "text/plain": [
       "<__main__.TreeNode at 0x15ba809f9e0>"
      ]
     },
     "execution_count": 20,
     "metadata": {},
     "output_type": "execute_result"
    }
   ],
   "source": [
    "node0"
   ]
  },
  {
   "cell_type": "code",
   "execution_count": 21,
   "id": "abed49fc-1525-47cf-9a45-c240286c38fd",
   "metadata": {},
   "outputs": [
    {
     "data": {
      "text/plain": [
       "3"
      ]
     },
     "execution_count": 21,
     "metadata": {},
     "output_type": "execute_result"
    }
   ],
   "source": [
    "node0.key"
   ]
  },
  {
   "cell_type": "code",
   "execution_count": 22,
   "id": "31a63461-dcf8-470d-8b64-ccbe860f4197",
   "metadata": {},
   "outputs": [],
   "source": [
    "node0.left = node1\n",
    "node0.right = node2"
   ]
  },
  {
   "cell_type": "code",
   "execution_count": 23,
   "id": "9ce2cc9a-f5d9-4179-9067-302e880c637c",
   "metadata": {},
   "outputs": [],
   "source": [
    "tree = node0"
   ]
  },
  {
   "cell_type": "code",
   "execution_count": 24,
   "id": "ab2f4687-c8eb-4402-908a-93f7309273f0",
   "metadata": {},
   "outputs": [
    {
     "data": {
      "text/plain": [
       "3"
      ]
     },
     "execution_count": 24,
     "metadata": {},
     "output_type": "execute_result"
    }
   ],
   "source": [
    "tree.key"
   ]
  },
  {
   "cell_type": "code",
   "execution_count": 25,
   "id": "225a2ab2-b015-4134-be2c-24fb15caa5de",
   "metadata": {},
   "outputs": [
    {
     "data": {
      "text/plain": [
       "4"
      ]
     },
     "execution_count": 25,
     "metadata": {},
     "output_type": "execute_result"
    }
   ],
   "source": [
    "tree.left.key"
   ]
  },
  {
   "cell_type": "code",
   "execution_count": 26,
   "id": "4d08f5f0-3b7f-47ce-839f-7cc7dbcc72f9",
   "metadata": {},
   "outputs": [
    {
     "data": {
      "text/plain": [
       "5"
      ]
     },
     "execution_count": 26,
     "metadata": {},
     "output_type": "execute_result"
    }
   ],
   "source": [
    "tree.right.key"
   ]
  },
  {
   "cell_type": "markdown",
   "id": "a5e25057-4cdb-4fe2-b84d-540a17692ea1",
   "metadata": {},
   "source": [
    "**Exercise**"
   ]
  },
  {
   "cell_type": "code",
   "execution_count": 27,
   "id": "6b4c1e2c-491a-4096-ac41-26967a0a3a55",
   "metadata": {},
   "outputs": [],
   "source": [
    "node0 = TreeNode(2)\n",
    "node1 = TreeNode(3)\n",
    "node2 = TreeNode(5)\n",
    "node3 = TreeNode(1)\n",
    "node4 = TreeNode(3)\n",
    "node5 = TreeNode(7)\n",
    "node6 = TreeNode(4)\n",
    "node7 = TreeNode(6)\n",
    "node8 = TreeNode(8)"
   ]
  },
  {
   "cell_type": "code",
   "execution_count": 28,
   "id": "4fd7b4ff-1da9-4ff4-a390-61269b759e54",
   "metadata": {},
   "outputs": [],
   "source": [
    "node0.left = node1\n",
    "node0.right = node2\n",
    "\n",
    "node1.left = node1\n",
    "\n",
    "node2.left = node4\n",
    "node2.right = node5\n",
    "\n",
    "node4.right = node6\n",
    "\n",
    "node5.left = node7\n",
    "node5.right = node8"
   ]
  },
  {
   "cell_type": "code",
   "execution_count": 29,
   "id": "17905a5e-368f-4692-99e9-aef465008ece",
   "metadata": {},
   "outputs": [
    {
     "data": {
      "text/plain": [
       "7"
      ]
     },
     "execution_count": 29,
     "metadata": {},
     "output_type": "execute_result"
    }
   ],
   "source": [
    "node5.key"
   ]
  },
  {
   "cell_type": "code",
   "execution_count": 30,
   "id": "9c4f93a9-409b-4413-b782-f79f4208bc90",
   "metadata": {},
   "outputs": [],
   "source": [
    "def parse_tuple(data):\n",
    "    print(data)\n",
    "    \n",
    "    if isinstance(data, tuple) and len(data) == 3:\n",
    "        node = TreeNode(data[1])\n",
    "        node.left = parse_tuple(data[0])\n",
    "        node.right = parse_tuple(data[2])\n",
    "    elif data is None:\n",
    "        node = None\n",
    "    else:\n",
    "        node = TreeNode(data)\n",
    "    return node"
   ]
  },
  {
   "cell_type": "code",
   "execution_count": 31,
   "id": "3669e808-643d-4ca8-b397-519e4c13af00",
   "metadata": {},
   "outputs": [],
   "source": [
    "tree_tuple = ((1, 3, None), 2, ((None, 3, 4), 5, (6, 7, 8)))"
   ]
  },
  {
   "cell_type": "code",
   "execution_count": 32,
   "id": "1141a2cd-e76c-4173-b93f-89c88c0b6c5f",
   "metadata": {},
   "outputs": [
    {
     "name": "stdout",
     "output_type": "stream",
     "text": [
      "((1, 3, None), 2, ((None, 3, 4), 5, (6, 7, 8)))\n",
      "(1, 3, None)\n",
      "1\n",
      "None\n",
      "((None, 3, 4), 5, (6, 7, 8))\n",
      "(None, 3, 4)\n",
      "None\n",
      "4\n",
      "(6, 7, 8)\n",
      "6\n",
      "8\n"
     ]
    }
   ],
   "source": [
    "tree2 = parse_tuple(tree_tuple)"
   ]
  },
  {
   "cell_type": "code",
   "execution_count": 33,
   "id": "c192b686-c3e3-4567-a44c-19107226f8f1",
   "metadata": {},
   "outputs": [
    {
     "data": {
      "text/plain": [
       "2"
      ]
     },
     "execution_count": 33,
     "metadata": {},
     "output_type": "execute_result"
    }
   ],
   "source": [
    "tree2.key"
   ]
  },
  {
   "cell_type": "code",
   "execution_count": 34,
   "id": "362847b2-4984-416b-8f84-78c1ca6669ab",
   "metadata": {},
   "outputs": [
    {
     "data": {
      "text/plain": [
       "(3, 5)"
      ]
     },
     "execution_count": 34,
     "metadata": {},
     "output_type": "execute_result"
    }
   ],
   "source": [
    "tree2.left.key, tree2.right.key"
   ]
  },
  {
   "cell_type": "code",
   "execution_count": 35,
   "id": "9b21161e-0766-4ebb-a77f-337c7d70ee29",
   "metadata": {},
   "outputs": [],
   "source": [
    "def tree_to_tuple(node):\n",
    "    if node is None:\n",
    "        return None\n",
    "\n",
    "    left = tree_to_tuple(node.left)\n",
    "    right = tree_to_tuple(node.right)\n",
    "\n",
    "    if left is None and right is None:\n",
    "        return node.key\n",
    "    return (left, node.key, right)"
   ]
  },
  {
   "cell_type": "code",
   "execution_count": 36,
   "id": "d9a0d71b-ebe5-4abf-87f1-ca9284337046",
   "metadata": {},
   "outputs": [
    {
     "data": {
      "text/plain": [
       "((1, 3, None), 2, ((None, 3, 4), 5, (6, 7, 8)))"
      ]
     },
     "execution_count": 36,
     "metadata": {},
     "output_type": "execute_result"
    }
   ],
   "source": [
    "tree_to_tuple(tree2)"
   ]
  },
  {
   "cell_type": "code",
   "execution_count": 37,
   "id": "d1572f66-8cb9-457e-8d30-e8a31adb4c96",
   "metadata": {},
   "outputs": [],
   "source": [
    "def display_keys(node, space='\\t', level=0):\n",
    "    # print(node.key if node else None, level)\n",
    "    \n",
    "    # If the node is empty\n",
    "    if node is None:\n",
    "        print(space*level + '∅')\n",
    "        return   \n",
    "    \n",
    "    # If the node is a leaf \n",
    "    if node.left is None and node.right is None:\n",
    "        print(space*level + str(node.key))\n",
    "        return\n",
    "    \n",
    "    # If the node has children\n",
    "    display_keys(node.right, space, level+1)\n",
    "    print(space*level + str(node.key))\n",
    "    display_keys(node.left,space, level+1)    "
   ]
  },
  {
   "cell_type": "code",
   "execution_count": 38,
   "id": "71f22900-5591-45f5-8760-0625c615cf15",
   "metadata": {},
   "outputs": [
    {
     "name": "stdout",
     "output_type": "stream",
     "text": [
      "      8\n",
      "    7\n",
      "      6\n",
      "  5\n",
      "      4\n",
      "    3\n",
      "      ∅\n",
      "2\n",
      "    ∅\n",
      "  3\n",
      "    1\n"
     ]
    }
   ],
   "source": [
    "display_keys(tree2, '  ')"
   ]
  },
  {
   "cell_type": "markdown",
   "id": "1230b5b4-e27c-44d4-8319-a932dc8f0c43",
   "metadata": {},
   "source": [
    "## Traversing a Binary Tree"
   ]
  },
  {
   "cell_type": "code",
   "execution_count": 39,
   "id": "a59cde63-b652-4590-b9b7-ce3ad46d7ed0",
   "metadata": {},
   "outputs": [],
   "source": [
    "# Inorder traversal of a binary tree\n",
    "def traverse_in_order(node):\n",
    "    if node is None:\n",
    "        return []\n",
    "    return(traverse_in_order(node.left) +\n",
    "          [node.key] +\n",
    "          traverse_in_order(node.right))"
   ]
  },
  {
   "cell_type": "code",
   "execution_count": 40,
   "id": "4bdf1095-0660-432e-befd-aed612b379e6",
   "metadata": {},
   "outputs": [
    {
     "name": "stdout",
     "output_type": "stream",
     "text": [
      "((1, 3, None), 2, ((None, 3, 4), 5, (6, 7, 8)))\n",
      "(1, 3, None)\n",
      "1\n",
      "None\n",
      "((None, 3, 4), 5, (6, 7, 8))\n",
      "(None, 3, 4)\n",
      "None\n",
      "4\n",
      "(6, 7, 8)\n",
      "6\n",
      "8\n"
     ]
    }
   ],
   "source": [
    "tree = parse_tuple(((1, 3, None), 2, ((None, 3, 4), 5, (6, 7, 8))))"
   ]
  },
  {
   "cell_type": "code",
   "execution_count": 41,
   "id": "fd67eea4-35e7-476e-80f2-7ee8c086b17f",
   "metadata": {},
   "outputs": [
    {
     "name": "stdout",
     "output_type": "stream",
     "text": [
      "      8\n",
      "    7\n",
      "      6\n",
      "  5\n",
      "      4\n",
      "    3\n",
      "      ∅\n",
      "2\n",
      "    ∅\n",
      "  3\n",
      "    1\n"
     ]
    }
   ],
   "source": [
    "display_keys(tree, '  ')"
   ]
  },
  {
   "cell_type": "code",
   "execution_count": 42,
   "id": "f9970d69-c3ad-4a3f-a3df-eb4f766cb45b",
   "metadata": {},
   "outputs": [
    {
     "data": {
      "text/plain": [
       "[1, 3, 2, 3, 4, 5, 6, 7, 8]"
      ]
     },
     "execution_count": 42,
     "metadata": {},
     "output_type": "execute_result"
    }
   ],
   "source": [
    "traverse_in_order(tree)"
   ]
  },
  {
   "cell_type": "code",
   "execution_count": 43,
   "id": "55df650b-9108-4eca-af31-52d6d5e3ed63",
   "metadata": {},
   "outputs": [],
   "source": [
    "# Preorder traversal of a binary tree\n",
    "def traverse_pre_order(node):\n",
    "    if node is None:\n",
    "        return []\n",
    "    return([node.key] +\n",
    "           traverse_pre_order(node.left) +\n",
    "           traverse_pre_order(node.right))"
   ]
  },
  {
   "cell_type": "code",
   "execution_count": 44,
   "id": "e9cfe012-e198-4699-907a-021f64611a12",
   "metadata": {},
   "outputs": [
    {
     "data": {
      "text/plain": [
       "[2, 3, 1, 5, 3, 4, 7, 6, 8]"
      ]
     },
     "execution_count": 44,
     "metadata": {},
     "output_type": "execute_result"
    }
   ],
   "source": [
    "traverse_pre_order(tree)"
   ]
  },
  {
   "cell_type": "code",
   "execution_count": 45,
   "id": "be5c6ee7-5c4e-4b87-817f-bbc23180b742",
   "metadata": {},
   "outputs": [],
   "source": [
    "# Postorder traversal of a binary tree\n",
    "def traverse_post_order(node):\n",
    "    if node is None:\n",
    "        return []\n",
    "    return(traverse_post_order(node.left) +\n",
    "           traverse_post_order(node.right) +\n",
    "           [node.key])"
   ]
  },
  {
   "cell_type": "code",
   "execution_count": 46,
   "id": "d1a8e803-2ef4-4c9c-b259-ab5fff0f6784",
   "metadata": {},
   "outputs": [
    {
     "data": {
      "text/plain": [
       "[1, 3, 4, 3, 6, 8, 7, 5, 2]"
      ]
     },
     "execution_count": 46,
     "metadata": {},
     "output_type": "execute_result"
    }
   ],
   "source": [
    "traverse_post_order(tree)"
   ]
  },
  {
   "cell_type": "markdown",
   "id": "84d27bc9-c260-45c4-9518-35ac1b766131",
   "metadata": {},
   "source": [
    "## Height and Size of a Binary Tree"
   ]
  },
  {
   "cell_type": "code",
   "execution_count": 47,
   "id": "d6a6c5de-828b-4d75-8e83-754814419bfe",
   "metadata": {},
   "outputs": [],
   "source": [
    "def tree_height(node):\n",
    "    if node is None:\n",
    "        return 0\n",
    "    return 1 + max(tree_height(node.left), tree_height(node.right))"
   ]
  },
  {
   "cell_type": "code",
   "execution_count": 48,
   "id": "88809b78-e122-4b98-91db-7d8eecdd5da3",
   "metadata": {},
   "outputs": [
    {
     "data": {
      "text/plain": [
       "4"
      ]
     },
     "execution_count": 48,
     "metadata": {},
     "output_type": "execute_result"
    }
   ],
   "source": [
    "tree_height(tree)"
   ]
  },
  {
   "cell_type": "code",
   "execution_count": 49,
   "id": "0b76fbf1-c499-494e-8803-36e0a8162294",
   "metadata": {},
   "outputs": [],
   "source": [
    "def tree_size(node):\n",
    "    if node is None:\n",
    "        return 0\n",
    "    return 1 + tree_size(node.left) + tree_size(node.right)"
   ]
  },
  {
   "cell_type": "code",
   "execution_count": 50,
   "id": "58e3d2a2-16fc-4531-9748-aa4450ab1940",
   "metadata": {},
   "outputs": [
    {
     "data": {
      "text/plain": [
       "9"
      ]
     },
     "execution_count": 50,
     "metadata": {},
     "output_type": "execute_result"
    }
   ],
   "source": [
    "tree_size(tree)"
   ]
  },
  {
   "cell_type": "code",
   "execution_count": 51,
   "id": "56b6b415-d76a-4245-9202-3a004912a43c",
   "metadata": {},
   "outputs": [],
   "source": [
    "class TreeNode():\n",
    "    def __init__(self, key):\n",
    "        self.key, self.left, self.right = key, None, None\n",
    "\n",
    "    def height(self):\n",
    "        if self is None:\n",
    "            return 0\n",
    "        return 1 + max(TreeNode.height(self.left), TreeNode.height(self.right))\n",
    "\n",
    "    def size(self):\n",
    "        if self is None:\n",
    "            return 0\n",
    "        return 1 + TreeNode.size(self.left) + TreeNode.size(self.right)\n",
    "\n",
    "    def traverse_in_order(self):\n",
    "        if self is None:\n",
    "            return []\n",
    "        return (TreeNode.traverse_in_order(self.left) +\n",
    "                [self.key] +\n",
    "                TreeNode.traverse_in_order(self.right))\n",
    "\n",
    "    def display_keys(self, space='\\t', level=0):\n",
    "        # If the node is empty\n",
    "        if self is None:\n",
    "            print(space*level + '∅')\n",
    "            return   \n",
    "\n",
    "        # If the node is a leaf \n",
    "        if self.left is None and self.right is None:\n",
    "            print(space*level + str(self.key))\n",
    "            return\n",
    "\n",
    "        # If the node has children\n",
    "        display_keys(self.right, space, level+1)\n",
    "        print(space*level + str(self.key))\n",
    "        display_keys(self.left,space, level+1)\n",
    "\n",
    "    def to_tuple(self):\n",
    "        if self is None:\n",
    "            return None\n",
    "        if self.left is None and self.right is None:\n",
    "            return self.key\n",
    "        return TreeNode.to_tuple(self.left), self.key, TreeNode.to_tuple(self.right)\n",
    "\n",
    "    def __str__(self):\n",
    "        return \"BinaryTree <{}>\".format(self.to_tuple())\n",
    "\n",
    "    def __repr__(self):\n",
    "        return \"BinaryTree <{}>\".format(self.to_tuple())\n",
    "\n",
    "    @staticmethod\n",
    "    def parse_tuple(data):\n",
    "        if data is None:\n",
    "            node = None\n",
    "        elif isinstance(data, tuple) and len(data) == 3:\n",
    "            node = TreeNode(data[1])\n",
    "            node.left = TreeNode.parse_tuple(data[0])\n",
    "            node.right = TreeNode.parse_tuple(data[2])\n",
    "        else:\n",
    "            node = TreeNode(data)\n",
    "        return node"
   ]
  },
  {
   "cell_type": "code",
   "execution_count": 52,
   "id": "57e62436-d453-4962-a662-67b2bfd7d6f6",
   "metadata": {},
   "outputs": [
    {
     "data": {
      "text/plain": [
       "((1, 3, None), 2, ((None, 3, 4), 5, (6, 7, 8)))"
      ]
     },
     "execution_count": 52,
     "metadata": {},
     "output_type": "execute_result"
    }
   ],
   "source": [
    "tree_tuple"
   ]
  },
  {
   "cell_type": "code",
   "execution_count": 53,
   "id": "0fab835e-2c9d-4d97-ab0b-2939e275654b",
   "metadata": {},
   "outputs": [],
   "source": [
    "tree = TreeNode.parse_tuple(tree_tuple)"
   ]
  },
  {
   "cell_type": "code",
   "execution_count": 54,
   "id": "46fb7810-e13d-485d-9cd9-3e18426002cb",
   "metadata": {},
   "outputs": [
    {
     "data": {
      "text/plain": [
       "BinaryTree <((1, 3, None), 2, ((None, 3, 4), 5, (6, 7, 8)))>"
      ]
     },
     "execution_count": 54,
     "metadata": {},
     "output_type": "execute_result"
    }
   ],
   "source": [
    "tree"
   ]
  },
  {
   "cell_type": "code",
   "execution_count": 55,
   "id": "3bcd0ed6-a06d-430f-b029-0c7ea1abb9ec",
   "metadata": {},
   "outputs": [
    {
     "name": "stdout",
     "output_type": "stream",
     "text": [
      "      8\n",
      "    7\n",
      "      6\n",
      "  5\n",
      "      4\n",
      "    3\n",
      "      ∅\n",
      "2\n",
      "    ∅\n",
      "  3\n",
      "    1\n"
     ]
    }
   ],
   "source": [
    "tree.display_keys('  ')"
   ]
  },
  {
   "cell_type": "code",
   "execution_count": 56,
   "id": "2d131ba7-c9f1-488d-a459-b445cb3ec8ea",
   "metadata": {},
   "outputs": [
    {
     "data": {
      "text/plain": [
       "4"
      ]
     },
     "execution_count": 56,
     "metadata": {},
     "output_type": "execute_result"
    }
   ],
   "source": [
    "tree.height()"
   ]
  },
  {
   "cell_type": "code",
   "execution_count": 57,
   "id": "0769b877-f43c-4129-886f-9eb958322d38",
   "metadata": {},
   "outputs": [
    {
     "data": {
      "text/plain": [
       "9"
      ]
     },
     "execution_count": 57,
     "metadata": {},
     "output_type": "execute_result"
    }
   ],
   "source": [
    "tree.size()"
   ]
  },
  {
   "cell_type": "code",
   "execution_count": 58,
   "id": "7bc0e09d-4214-45c7-88c3-9ebf241e870c",
   "metadata": {},
   "outputs": [
    {
     "data": {
      "text/plain": [
       "[1, 3, 2, 3, 4, 5, 6, 7, 8]"
      ]
     },
     "execution_count": 58,
     "metadata": {},
     "output_type": "execute_result"
    }
   ],
   "source": [
    "tree.traverse_in_order()"
   ]
  },
  {
   "cell_type": "code",
   "execution_count": 59,
   "id": "49d4ad95-3fb0-49fd-8a3a-ccab82c2e0ca",
   "metadata": {},
   "outputs": [
    {
     "data": {
      "text/plain": [
       "((1, 3, None), 2, ((None, 3, 4), 5, (6, 7, 8)))"
      ]
     },
     "execution_count": 59,
     "metadata": {},
     "output_type": "execute_result"
    }
   ],
   "source": [
    "tree.to_tuple()"
   ]
  },
  {
   "cell_type": "markdown",
   "id": "d109831c-0170-4e5a-915f-6f8abf0f1718",
   "metadata": {},
   "source": [
    "## Binary Search Tree (BST)"
   ]
  },
  {
   "cell_type": "code",
   "execution_count": 60,
   "id": "a9d4b481-29b1-4bff-9357-f1b95a3407de",
   "metadata": {},
   "outputs": [],
   "source": [
    "def remove_none(nums):\n",
    "    return [x for x in nums if x is not None]\n",
    "\n",
    "def is_bst(node):\n",
    "    if node is None:\n",
    "        return True, None, None\n",
    "\n",
    "    is_bst_l, min_l, max_l = is_bst(node.left)\n",
    "    is_bst_r, min_r, max_r = is_bst(node.right)\n",
    "\n",
    "    is_bst_node = (is_bst_l and is_bst_r and\n",
    "                  (max_l is None or node.key > max_l) and\n",
    "                  (min_r is None or node.key < min_r))\n",
    "\n",
    "    min_key = min(remove_none([min_l, node.key, min_r]))\n",
    "    max_key = max(remove_none([max_l, node.key, max_r]))\n",
    "\n",
    "    print(node.key, min_key, max_key, is_bst_node)\n",
    "    return is_bst_node, min_key, max_key"
   ]
  },
  {
   "cell_type": "code",
   "execution_count": 61,
   "id": "1f764bd4-533f-4266-9873-4b62f0282505",
   "metadata": {},
   "outputs": [],
   "source": [
    "tree1 = TreeNode.parse_tuple(((1, 3, None), 2, ((None, 3, 4), 5, (6, 7, 8))))"
   ]
  },
  {
   "cell_type": "code",
   "execution_count": 62,
   "id": "6a9ed85a-3bc4-482c-a9bf-abba32286466",
   "metadata": {},
   "outputs": [
    {
     "name": "stdout",
     "output_type": "stream",
     "text": [
      "1 1 1 True\n",
      "3 1 3 True\n",
      "4 4 4 True\n",
      "3 3 4 True\n",
      "6 6 6 True\n",
      "8 8 8 True\n",
      "7 6 8 True\n",
      "5 3 8 True\n",
      "2 1 8 False\n"
     ]
    },
    {
     "data": {
      "text/plain": [
       "(False, 1, 8)"
      ]
     },
     "execution_count": 62,
     "metadata": {},
     "output_type": "execute_result"
    }
   ],
   "source": [
    "is_bst(tree1)"
   ]
  },
  {
   "cell_type": "code",
   "execution_count": 63,
   "id": "7543cac9-16f4-4e74-a451-cdfe7adb0b0e",
   "metadata": {},
   "outputs": [],
   "source": [
    "tree2 = TreeNode.parse_tuple((('aakash', 'biraj', 'hemanth')  , 'jadhesh', ('siddhant', 'sonaksh', 'vishal')))"
   ]
  },
  {
   "cell_type": "code",
   "execution_count": 64,
   "id": "0d7b29d8-c4dd-4053-8c1d-44a9bc623922",
   "metadata": {},
   "outputs": [
    {
     "name": "stdout",
     "output_type": "stream",
     "text": [
      "aakash aakash aakash True\n",
      "hemanth hemanth hemanth True\n",
      "biraj aakash hemanth True\n",
      "siddhant siddhant siddhant True\n",
      "vishal vishal vishal True\n",
      "sonaksh siddhant vishal True\n",
      "jadhesh aakash vishal True\n"
     ]
    },
    {
     "data": {
      "text/plain": [
       "(True, 'aakash', 'vishal')"
      ]
     },
     "execution_count": 64,
     "metadata": {},
     "output_type": "execute_result"
    }
   ],
   "source": [
    "is_bst(tree2)"
   ]
  },
  {
   "cell_type": "markdown",
   "id": "704cccd7-7599-4bf1-b9db-4e227b97f765",
   "metadata": {},
   "source": [
    "## Storing Key-Value Pairs using BSTs"
   ]
  },
  {
   "cell_type": "code",
   "execution_count": 65,
   "id": "1c4ce18a-d9e9-4375-b48d-62853b06b395",
   "metadata": {},
   "outputs": [],
   "source": [
    "class BSTNode():\n",
    "    def __init__(self, key, value=None):\n",
    "        self.key = key\n",
    "        self.value = value\n",
    "        self.left = None\n",
    "        self.right = None\n",
    "        self.parent = None"
   ]
  },
  {
   "cell_type": "code",
   "execution_count": 66,
   "id": "226f31b3-8661-4baf-bed9-9183d5d4cf5d",
   "metadata": {},
   "outputs": [],
   "source": [
    "# Level 0\n",
    "tree = BSTNode(jadhesh.username, jadhesh)"
   ]
  },
  {
   "cell_type": "code",
   "execution_count": 67,
   "id": "9a329fd9-2c61-48f6-a525-8447be0d379c",
   "metadata": {},
   "outputs": [
    {
     "data": {
      "text/plain": [
       "('jadhesh',\n",
       " User(username='jadhesh', name='Jadhesh Verma', email='jadhesh@example.com'))"
      ]
     },
     "execution_count": 67,
     "metadata": {},
     "output_type": "execute_result"
    }
   ],
   "source": [
    "# View Level 0\n",
    "tree.key, tree.value"
   ]
  },
  {
   "cell_type": "code",
   "execution_count": 68,
   "id": "210c8727-d5c6-4be2-b676-275c92aca09d",
   "metadata": {},
   "outputs": [],
   "source": [
    "# Level 1\n",
    "tree.left = BSTNode(biraj.username, biraj)\n",
    "tree.right = BSTNode(sonaksh.username, sonaksh)"
   ]
  },
  {
   "cell_type": "code",
   "execution_count": 69,
   "id": "2f772008-6095-4dd6-b259-9f7707f47943",
   "metadata": {},
   "outputs": [
    {
     "data": {
      "text/plain": [
       "('biraj',\n",
       " User(username='biraj', name='Biraj Das', email='biraj@example.com'),\n",
       " 'sonaksh',\n",
       " User(username='sonaksh', name='Sonaksh Kumar', email='sonaksh@example.com'))"
      ]
     },
     "execution_count": 69,
     "metadata": {},
     "output_type": "execute_result"
    }
   ],
   "source": [
    "# View Level 1\n",
    "tree.left.key, tree.left.value, tree.right.key, tree.right.value"
   ]
  },
  {
   "cell_type": "code",
   "execution_count": 70,
   "id": "83cefa3f-f14e-4642-a386-d0ceccbc7e98",
   "metadata": {},
   "outputs": [
    {
     "name": "stdout",
     "output_type": "stream",
     "text": [
      "\tsonaksh\n",
      "jadhesh\n",
      "\tbiraj\n"
     ]
    }
   ],
   "source": [
    "display_keys(tree)"
   ]
  },
  {
   "cell_type": "code",
   "execution_count": 71,
   "id": "bc52dbdf-f3f5-4ece-9591-5b03daec9d18",
   "metadata": {},
   "outputs": [],
   "source": [
    "def insert(node, key, value):\n",
    "    if node is None:\n",
    "        node = BSTNode(key, value)\n",
    "    elif key < node.key:\n",
    "        node.left = insert(node.left, key, value)\n",
    "        node.left.parent = node\n",
    "    elif key > node.key:\n",
    "        node.right = insert(node.right, key, value)\n",
    "        node.right.parent = node\n",
    "    return node"
   ]
  },
  {
   "cell_type": "code",
   "execution_count": 72,
   "id": "4febd7e2-1ca9-4cdb-9873-41a93ebcaa43",
   "metadata": {},
   "outputs": [],
   "source": [
    "tree = insert(None, jadhesh.username, jadhesh)"
   ]
  },
  {
   "cell_type": "code",
   "execution_count": 73,
   "id": "735f770f-c774-4a97-aee4-818b466a75a9",
   "metadata": {},
   "outputs": [
    {
     "data": {
      "text/plain": [
       "<__main__.BSTNode at 0x15ba80efbc0>"
      ]
     },
     "execution_count": 73,
     "metadata": {},
     "output_type": "execute_result"
    }
   ],
   "source": [
    "insert(tree, biraj.username, biraj)\n",
    "insert(tree, sonaksh.username, sonaksh)\n",
    "insert(tree, aakash.username, aakash)\n",
    "insert(tree, hemanth.username, hemanth)\n",
    "insert(tree, siddhant.username, siddhant)\n",
    "insert(tree, vishal.username, siddhant)"
   ]
  },
  {
   "cell_type": "code",
   "execution_count": 74,
   "id": "dd4e5c98-6f49-4480-a6fe-d18ae3bb0124",
   "metadata": {},
   "outputs": [
    {
     "name": "stdout",
     "output_type": "stream",
     "text": [
      "\t\tvishal\n",
      "\tsonaksh\n",
      "\t\tsiddhant\n",
      "jadhesh\n",
      "\t\themanth\n",
      "\tbiraj\n",
      "\t\taakash\n"
     ]
    }
   ],
   "source": [
    "display_keys(tree)"
   ]
  },
  {
   "cell_type": "code",
   "execution_count": 75,
   "id": "5b0fa8ad-0782-4d92-a863-44a5c86e6f14",
   "metadata": {},
   "outputs": [
    {
     "data": {
      "text/plain": [
       "<__main__.BSTNode at 0x15ba80cecf0>"
      ]
     },
     "execution_count": 75,
     "metadata": {},
     "output_type": "execute_result"
    }
   ],
   "source": [
    "tree2 = insert(None, aakash.username, aakash)\n",
    "insert(tree2, biraj.username, biraj)\n",
    "insert(tree2, hemanth.username, hemanth)\n",
    "insert(tree2, jadhesh.username, jadhesh)\n",
    "insert(tree2, siddhant.username, siddhant)\n",
    "insert(tree2, sonaksh.username, sonaksh)\n",
    "insert(tree2, vishal.username, vishal)"
   ]
  },
  {
   "cell_type": "code",
   "execution_count": 76,
   "id": "a360851c-3ec4-45cb-b8c3-68e36226b8ec",
   "metadata": {},
   "outputs": [
    {
     "name": "stdout",
     "output_type": "stream",
     "text": [
      "\t\t\t\t\t\tvishal\n",
      "\t\t\t\t\tsonaksh\n",
      "\t\t\t\t\t\t∅\n",
      "\t\t\t\tsiddhant\n",
      "\t\t\t\t\t∅\n",
      "\t\t\tjadhesh\n",
      "\t\t\t\t∅\n",
      "\t\themanth\n",
      "\t\t\t∅\n",
      "\tbiraj\n",
      "\t\t∅\n",
      "aakash\n",
      "\t∅\n"
     ]
    }
   ],
   "source": [
    "display_keys(tree2)"
   ]
  },
  {
   "cell_type": "markdown",
   "id": "3a9f770a-127c-456c-81e3-f7bf46180a97",
   "metadata": {},
   "source": [
    "## Finding a Node in BST"
   ]
  },
  {
   "cell_type": "code",
   "execution_count": 77,
   "id": "2a08c7a4-fa9f-4ac1-9c0e-fc230f6b4bad",
   "metadata": {},
   "outputs": [],
   "source": [
    "def find(node, key):\n",
    "    if node is None:\n",
    "        return None\n",
    "    if key == node.key:\n",
    "        return node\n",
    "    if key < node.key:\n",
    "        return find(node.left, key)\n",
    "    if key > node.key:\n",
    "        return find(node.right, key)"
   ]
  },
  {
   "cell_type": "code",
   "execution_count": 78,
   "id": "2bc3d1cb-0b79-4394-9f1f-842c0481f8f7",
   "metadata": {},
   "outputs": [],
   "source": [
    "node = find(tree, 'hemanth')"
   ]
  },
  {
   "cell_type": "code",
   "execution_count": 79,
   "id": "b181a6c0-2b9c-4ef2-a945-f3f312ba116a",
   "metadata": {},
   "outputs": [
    {
     "data": {
      "text/plain": [
       "('hemanth',\n",
       " User(username='hemanth', name='Hemanth Jain', email='hemanth@example.com'))"
      ]
     },
     "execution_count": 79,
     "metadata": {},
     "output_type": "execute_result"
    }
   ],
   "source": [
    "node.key, node.value"
   ]
  },
  {
   "cell_type": "markdown",
   "id": "73948fa7-94e5-4912-9e64-f0f5d73de7e9",
   "metadata": {},
   "source": [
    "## Updating a value in a BST"
   ]
  },
  {
   "cell_type": "code",
   "execution_count": 80,
   "id": "c19916fe-97eb-4792-b328-dbf400a76d23",
   "metadata": {},
   "outputs": [],
   "source": [
    "def update(node, key, value):\n",
    "    target = find(node, key)\n",
    "    if target is not None:\n",
    "        target.value = value"
   ]
  },
  {
   "cell_type": "code",
   "execution_count": 81,
   "id": "11e7b012-4499-42c2-9c51-b21d78a9a412",
   "metadata": {},
   "outputs": [],
   "source": [
    "update(tree, 'hemanth', User('hemanth', 'Hemanth J', 'hemanthj@example.com'))"
   ]
  },
  {
   "cell_type": "code",
   "execution_count": 82,
   "id": "eac79842-62d3-4a93-860b-ec1dc4e49422",
   "metadata": {},
   "outputs": [
    {
     "data": {
      "text/plain": [
       "User(username='hemanth', name='Hemanth J', email='hemanthj@example.com')"
      ]
     },
     "execution_count": 82,
     "metadata": {},
     "output_type": "execute_result"
    }
   ],
   "source": [
    "node = find(tree, 'hemanth')\n",
    "node.value"
   ]
  },
  {
   "cell_type": "markdown",
   "id": "d2e345ca-06e0-46f2-9555-265d9d33656c",
   "metadata": {},
   "source": [
    "## List the nodes"
   ]
  },
  {
   "cell_type": "code",
   "execution_count": 83,
   "id": "aee0966c-8433-426e-a144-cb3d6746983a",
   "metadata": {},
   "outputs": [],
   "source": [
    "def list_all(node):\n",
    "    if node is None:\n",
    "        return []\n",
    "    return list_all(node.left) + [(node.key, node.value)] + list_all(node.right)"
   ]
  },
  {
   "cell_type": "code",
   "execution_count": 84,
   "id": "86838b8a-6bb5-4232-ba14-964b64f6a2fb",
   "metadata": {},
   "outputs": [
    {
     "data": {
      "text/plain": [
       "[('aakash',\n",
       "  User(username='aakash', name='Aakash Rai', email='aakash@example.com')),\n",
       " ('biraj',\n",
       "  User(username='biraj', name='Biraj Das', email='biraj@example.com')),\n",
       " ('hemanth',\n",
       "  User(username='hemanth', name='Hemanth J', email='hemanthj@example.com')),\n",
       " ('jadhesh',\n",
       "  User(username='jadhesh', name='Jadhesh Verma', email='jadhesh@example.com')),\n",
       " ('siddhant',\n",
       "  User(username='siddhant', name='Siddhant U', email='siddhantu@example.com')),\n",
       " ('sonaksh',\n",
       "  User(username='sonaksh', name='Sonaksh Kumar', email='sonaksh@example.com')),\n",
       " ('vishal',\n",
       "  User(username='siddhant', name='Siddhant U', email='siddhantu@example.com'))]"
      ]
     },
     "execution_count": 84,
     "metadata": {},
     "output_type": "execute_result"
    }
   ],
   "source": [
    "list_all(tree)"
   ]
  },
  {
   "cell_type": "markdown",
   "id": "7b384146-600e-4a8f-8e0b-9fa33f81a05e",
   "metadata": {},
   "source": [
    "**Exercise:** Determine the time complexity and space complexity of `list_all`."
   ]
  },
  {
   "cell_type": "code",
   "execution_count": 85,
   "id": "c1c51427-cc7c-41a7-9d4c-c9eb8aba1c1d",
   "metadata": {},
   "outputs": [
    {
     "data": {
      "text/plain": [
       "'O(N)'"
      ]
     },
     "execution_count": 85,
     "metadata": {},
     "output_type": "execute_result"
    }
   ],
   "source": [
    "time_complexity = \"O(N)\"\n",
    "time_complexity"
   ]
  },
  {
   "cell_type": "markdown",
   "id": "e3213438-85af-4283-8a2e-4b4c6de9f0d8",
   "metadata": {},
   "source": [
    "## Balanced Binary Trees"
   ]
  },
  {
   "cell_type": "code",
   "execution_count": 86,
   "id": "2772a98c-0abb-4ee5-b617-c33e30a9bc62",
   "metadata": {},
   "outputs": [],
   "source": [
    "def is_balanced(node):\n",
    "    if node is None:\n",
    "        return True, 0\n",
    "    balanced_l, height_l = is_balanced(node.left)\n",
    "    balanced_r, height_r = is_balanced(node.right)\n",
    "    balanced = balanced_l and balanced_r and abs(height_l - height_r) <= 1\n",
    "    height = 1 + max(height_l, height_r)\n",
    "    return balanced, height"
   ]
  },
  {
   "cell_type": "code",
   "execution_count": 87,
   "id": "7249bf5d-5025-46c4-8425-f1d3e19d283e",
   "metadata": {},
   "outputs": [
    {
     "data": {
      "text/plain": [
       "(True, 3)"
      ]
     },
     "execution_count": 87,
     "metadata": {},
     "output_type": "execute_result"
    }
   ],
   "source": [
    "is_balanced(tree)"
   ]
  },
  {
   "cell_type": "code",
   "execution_count": 88,
   "id": "250be5d4-295a-4b8f-9659-46387ecfacf1",
   "metadata": {},
   "outputs": [
    {
     "data": {
      "text/plain": [
       "(False, 7)"
      ]
     },
     "execution_count": 88,
     "metadata": {},
     "output_type": "execute_result"
    }
   ],
   "source": [
    "is_balanced(tree2)"
   ]
  },
  {
   "cell_type": "code",
   "execution_count": 89,
   "id": "544c4606-5c4c-454e-92af-7f0efa22a669",
   "metadata": {},
   "outputs": [
    {
     "data": {
      "text/plain": [
       "<__main__.BSTNode at 0x15ba7cd68a0>"
      ]
     },
     "execution_count": 89,
     "metadata": {},
     "output_type": "execute_result"
    }
   ],
   "source": [
    "tree3 = insert(None, jadhesh.username, jadhesh)\n",
    "insert(tree3, biraj.username, biraj)\n",
    "insert(tree3, aakash.username, aakash)\n",
    "insert(tree3, hemanth.username, hemanth)\n",
    "insert(tree3, sonaksh.username, sonaksh)\n",
    "insert(tree3, siddhant.username, siddhant)\n",
    "insert(tree3, vishal.username, vishal)\n",
    "insert(tree3, tanya.username, tanya)"
   ]
  },
  {
   "cell_type": "code",
   "execution_count": 90,
   "id": "e6d3f2bc-49fc-4981-bcc0-2ceb67bc7ed0",
   "metadata": {},
   "outputs": [
    {
     "name": "stdout",
     "output_type": "stream",
     "text": [
      "\t\t\t∅\n",
      "\t\tvishal\n",
      "\t\t\ttanya\n",
      "\tsonaksh\n",
      "\t\tsiddhant\n",
      "jadhesh\n",
      "\t\themanth\n",
      "\tbiraj\n",
      "\t\taakash\n"
     ]
    }
   ],
   "source": [
    "display_keys(tree3)"
   ]
  },
  {
   "cell_type": "code",
   "execution_count": 91,
   "id": "bcba4420-ed72-43e7-bb3f-b25654f5becb",
   "metadata": {},
   "outputs": [
    {
     "data": {
      "text/plain": [
       "(True, 4)"
      ]
     },
     "execution_count": 91,
     "metadata": {},
     "output_type": "execute_result"
    }
   ],
   "source": [
    "is_balanced(tree3)"
   ]
  },
  {
   "cell_type": "code",
   "execution_count": 92,
   "id": "05436823-85f1-48ce-8ae4-bab6bd4c6a84",
   "metadata": {},
   "outputs": [],
   "source": [
    "def make_balanced_bst(data, lo=0, hi=None, parent=None):\n",
    "    if hi is None:\n",
    "        hi = len(data) - 1\n",
    "    if lo > hi:\n",
    "        return None\n",
    "\n",
    "    mid = (lo + hi) // 2\n",
    "    key, value = data[mid]\n",
    "\n",
    "    root = BSTNode(key, value)\n",
    "    root.parent = parent\n",
    "    root.left = make_balanced_bst(data, lo, mid-1, root)\n",
    "    root.right = make_balanced_bst(data, mid+1, hi, root)\n",
    "\n",
    "    return root"
   ]
  },
  {
   "cell_type": "code",
   "execution_count": 93,
   "id": "83a9d6ef-b4b9-42c6-873b-c0193202e7db",
   "metadata": {},
   "outputs": [
    {
     "data": {
      "text/plain": [
       "[('aakash',\n",
       "  User(username='aakash', name='Aakash Rai', email='aakash@example.com')),\n",
       " ('biraj',\n",
       "  User(username='biraj', name='Biraj Das', email='biraj@example.com')),\n",
       " ('hemanth',\n",
       "  User(username='hemanth', name='Hemanth Jain', email='hemanth@example.com')),\n",
       " ('jadhesh',\n",
       "  User(username='jadhesh', name='Jadhesh Verma', email='jadhesh@example.com')),\n",
       " ('siddhant',\n",
       "  User(username='siddhant', name='Siddhant U', email='siddhantu@example.com')),\n",
       " ('sonaksh',\n",
       "  User(username='sonaksh', name='Sonaksh Kumar', email='sonaksh@example.com')),\n",
       " ('vishal',\n",
       "  User(username='vishal', name='Vishal Goel', email='vishal@example.com'))]"
      ]
     },
     "execution_count": 93,
     "metadata": {},
     "output_type": "execute_result"
    }
   ],
   "source": [
    "data = [(user.username, user) for user in users]\n",
    "data"
   ]
  },
  {
   "cell_type": "code",
   "execution_count": 94,
   "id": "4ef29562-e20e-4b52-b706-0fb6d1e3fd7e",
   "metadata": {},
   "outputs": [],
   "source": [
    "tree = make_balanced_bst(data)"
   ]
  },
  {
   "cell_type": "code",
   "execution_count": 95,
   "id": "3e7ebe56-bf11-4cce-80ba-ccbe99bdd732",
   "metadata": {},
   "outputs": [
    {
     "name": "stdout",
     "output_type": "stream",
     "text": [
      "\t\tvishal\n",
      "\tsonaksh\n",
      "\t\tsiddhant\n",
      "jadhesh\n",
      "\t\themanth\n",
      "\tbiraj\n",
      "\t\taakash\n"
     ]
    }
   ],
   "source": [
    "display_keys(tree)"
   ]
  },
  {
   "cell_type": "code",
   "execution_count": 96,
   "id": "98807a90-60be-4675-94db-8d4b921ce9b2",
   "metadata": {},
   "outputs": [],
   "source": [
    "tree3 = None\n",
    "for username, user in data:\n",
    "    tree3 = insert(tree3, username, user)"
   ]
  },
  {
   "cell_type": "code",
   "execution_count": 97,
   "id": "a60dbba4-4511-4071-8b58-2433ea16c2ab",
   "metadata": {},
   "outputs": [
    {
     "name": "stdout",
     "output_type": "stream",
     "text": [
      "\t\t\t\t\t\tvishal\n",
      "\t\t\t\t\tsonaksh\n",
      "\t\t\t\t\t\t∅\n",
      "\t\t\t\tsiddhant\n",
      "\t\t\t\t\t∅\n",
      "\t\t\tjadhesh\n",
      "\t\t\t\t∅\n",
      "\t\themanth\n",
      "\t\t\t∅\n",
      "\tbiraj\n",
      "\t\t∅\n",
      "aakash\n",
      "\t∅\n"
     ]
    }
   ],
   "source": [
    "display_keys(tree3)"
   ]
  },
  {
   "cell_type": "code",
   "execution_count": 98,
   "id": "61b8fd5c-f30a-4e4a-a760-dfb4bd471677",
   "metadata": {},
   "outputs": [],
   "source": [
    "tree = make_balanced_bst(data)"
   ]
  },
  {
   "cell_type": "code",
   "execution_count": 99,
   "id": "d047fa2d-9c8d-4150-b7c7-abb1c0a38f60",
   "metadata": {},
   "outputs": [
    {
     "name": "stdout",
     "output_type": "stream",
     "text": [
      "\t\tvishal\n",
      "\tsonaksh\n",
      "\t\tsiddhant\n",
      "jadhesh\n",
      "\t\themanth\n",
      "\tbiraj\n",
      "\t\taakash\n"
     ]
    }
   ],
   "source": [
    "display_keys(tree)"
   ]
  },
  {
   "cell_type": "markdown",
   "id": "91779f30-7baf-419f-9a41-d26f68d6c0a2",
   "metadata": {},
   "source": [
    "## Balancing an Unbalanced BST"
   ]
  },
  {
   "cell_type": "code",
   "execution_count": 100,
   "id": "a9a81cc5-605b-47cc-87b1-cee29eeef5ae",
   "metadata": {},
   "outputs": [],
   "source": [
    "def balance_bst(node):\n",
    "    return make_balanced_bst(list_all(node))"
   ]
  },
  {
   "cell_type": "code",
   "execution_count": 101,
   "id": "943f38c3-d25c-4cb3-b3d5-602eba83ae89",
   "metadata": {},
   "outputs": [],
   "source": [
    "tree1 = None\n",
    "\n",
    "for user in users:\n",
    "    tree1 = insert(tree1, user.username, user)"
   ]
  },
  {
   "cell_type": "code",
   "execution_count": 102,
   "id": "1efc3f0a-ab3c-4b15-8f67-6a69d8aa6a76",
   "metadata": {},
   "outputs": [
    {
     "name": "stdout",
     "output_type": "stream",
     "text": [
      "\t\t\t\t\t\tvishal\n",
      "\t\t\t\t\tsonaksh\n",
      "\t\t\t\t\t\t∅\n",
      "\t\t\t\tsiddhant\n",
      "\t\t\t\t\t∅\n",
      "\t\t\tjadhesh\n",
      "\t\t\t\t∅\n",
      "\t\themanth\n",
      "\t\t\t∅\n",
      "\tbiraj\n",
      "\t\t∅\n",
      "aakash\n",
      "\t∅\n"
     ]
    }
   ],
   "source": [
    "display_keys(tree1)"
   ]
  },
  {
   "cell_type": "code",
   "execution_count": 103,
   "id": "e6f9d12b-5ef2-4dbf-81a6-9f3026c33df0",
   "metadata": {},
   "outputs": [],
   "source": [
    "tree2 = balance_bst(tree1)"
   ]
  },
  {
   "cell_type": "code",
   "execution_count": 104,
   "id": "43144cb6-80d8-416c-8868-c881c4af2117",
   "metadata": {},
   "outputs": [
    {
     "name": "stdout",
     "output_type": "stream",
     "text": [
      "\t\tvishal\n",
      "\tsonaksh\n",
      "\t\tsiddhant\n",
      "jadhesh\n",
      "\t\themanth\n",
      "\tbiraj\n",
      "\t\taakash\n"
     ]
    }
   ],
   "source": [
    "display_keys(tree2)"
   ]
  },
  {
   "cell_type": "markdown",
   "id": "c0dd31b9-cfc8-4bea-9fb9-28f18f254e0e",
   "metadata": {},
   "source": [
    "## A Python-Friendly Treemap"
   ]
  },
  {
   "cell_type": "code",
   "execution_count": 106,
   "id": "dc4dee37-0cbb-44d1-9018-cf702b0d9ddd",
   "metadata": {},
   "outputs": [],
   "source": [
    "class TreeMap():\n",
    "    def __init__(self):\n",
    "        self.root = None\n",
    "\n",
    "    def __setitem__(self, key, value):\n",
    "        node = find(self.root, key)\n",
    "        if not node:\n",
    "            self.root = insert(self.root, key, value)\n",
    "            self.root = balance_bst(self.root)\n",
    "        else:\n",
    "            update(self.root, key, value)\n",
    "\n",
    "    def __getitem__(self, key):\n",
    "        node = find(self.root, key)\n",
    "        return node.value if node else None\n",
    "\n",
    "    def __iter__(self):\n",
    "        return (x for x in list_all(self.root))\n",
    "\n",
    "    def __len__(self):\n",
    "        return tree_size(self.root)\n",
    "\n",
    "    def display(self):\n",
    "        return display_keys(self.root)"
   ]
  },
  {
   "cell_type": "code",
   "execution_count": 107,
   "id": "af9729fb-ca24-48c8-b58d-7dacd956d0ac",
   "metadata": {},
   "outputs": [
    {
     "data": {
      "text/plain": [
       "[User(username='aakash', name='Aakash Rai', email='aakash@example.com'),\n",
       " User(username='biraj', name='Biraj Das', email='biraj@example.com'),\n",
       " User(username='hemanth', name='Hemanth Jain', email='hemanth@example.com'),\n",
       " User(username='jadhesh', name='Jadhesh Verma', email='jadhesh@example.com'),\n",
       " User(username='siddhant', name='Siddhant U', email='siddhantu@example.com'),\n",
       " User(username='sonaksh', name='Sonaksh Kumar', email='sonaksh@example.com'),\n",
       " User(username='vishal', name='Vishal Goel', email='vishal@example.com')]"
      ]
     },
     "execution_count": 107,
     "metadata": {},
     "output_type": "execute_result"
    }
   ],
   "source": [
    "users"
   ]
  },
  {
   "cell_type": "code",
   "execution_count": 108,
   "id": "33abca4d-075d-4280-ad29-34b8c834c391",
   "metadata": {},
   "outputs": [],
   "source": [
    "treemap = TreeMap()"
   ]
  },
  {
   "cell_type": "code",
   "execution_count": 109,
   "id": "768afaa5-7655-45e7-9478-75c0b9bb0312",
   "metadata": {},
   "outputs": [
    {
     "name": "stdout",
     "output_type": "stream",
     "text": [
      "∅\n"
     ]
    }
   ],
   "source": [
    "treemap.display()"
   ]
  },
  {
   "cell_type": "code",
   "execution_count": 110,
   "id": "c619b0b3-ed54-4b60-955e-e6b906b51a06",
   "metadata": {},
   "outputs": [],
   "source": [
    "treemap['aakash'] = aakash\n",
    "treemap['jadhesh'] = jadhesh\n",
    "treemap['sonaksh'] = sonaksh"
   ]
  },
  {
   "cell_type": "code",
   "execution_count": 111,
   "id": "58deefb8-b7a7-413b-b722-de98dc67cf61",
   "metadata": {},
   "outputs": [
    {
     "name": "stdout",
     "output_type": "stream",
     "text": [
      "\tsonaksh\n",
      "jadhesh\n",
      "\taakash\n"
     ]
    }
   ],
   "source": [
    "treemap.display()"
   ]
  },
  {
   "cell_type": "code",
   "execution_count": 112,
   "id": "7062e152-87d1-4124-b7c9-7a5a334efa71",
   "metadata": {},
   "outputs": [
    {
     "data": {
      "text/plain": [
       "User(username='jadhesh', name='Jadhesh Verma', email='jadhesh@example.com')"
      ]
     },
     "execution_count": 112,
     "metadata": {},
     "output_type": "execute_result"
    }
   ],
   "source": [
    "treemap['jadhesh']"
   ]
  },
  {
   "cell_type": "code",
   "execution_count": 113,
   "id": "b6adc88a-fad8-4e56-b7cc-34e1d098d8e0",
   "metadata": {},
   "outputs": [
    {
     "data": {
      "text/plain": [
       "3"
      ]
     },
     "execution_count": 113,
     "metadata": {},
     "output_type": "execute_result"
    }
   ],
   "source": [
    "len(treemap)"
   ]
  },
  {
   "cell_type": "code",
   "execution_count": 114,
   "id": "9a262e7b-abff-41f0-ba15-9093c54dd56f",
   "metadata": {},
   "outputs": [],
   "source": [
    "treemap['biraj'] = biraj\n",
    "treemap['hemanth'] = hemanth\n",
    "treemap['siddhant'] = siddhant\n",
    "treemap['vishal'] = vishal"
   ]
  },
  {
   "cell_type": "code",
   "execution_count": 115,
   "id": "3b4b50d9-754c-4725-8543-51788925c82b",
   "metadata": {},
   "outputs": [
    {
     "name": "stdout",
     "output_type": "stream",
     "text": [
      "\t\tvishal\n",
      "\tsonaksh\n",
      "\t\tsiddhant\n",
      "jadhesh\n",
      "\t\themanth\n",
      "\tbiraj\n",
      "\t\taakash\n"
     ]
    }
   ],
   "source": [
    "treemap.display()"
   ]
  },
  {
   "cell_type": "code",
   "execution_count": 116,
   "id": "62557a11-f483-4fed-b482-b141011a5d19",
   "metadata": {},
   "outputs": [
    {
     "name": "stdout",
     "output_type": "stream",
     "text": [
      "aakash User(username='aakash', name='Aakash Rai', email='aakash@example.com')\n",
      "biraj User(username='biraj', name='Biraj Das', email='biraj@example.com')\n",
      "hemanth User(username='hemanth', name='Hemanth Jain', email='hemanth@example.com')\n",
      "jadhesh User(username='jadhesh', name='Jadhesh Verma', email='jadhesh@example.com')\n",
      "siddhant User(username='siddhant', name='Siddhant U', email='siddhantu@example.com')\n",
      "sonaksh User(username='sonaksh', name='Sonaksh Kumar', email='sonaksh@example.com')\n",
      "vishal User(username='vishal', name='Vishal Goel', email='vishal@example.com')\n"
     ]
    }
   ],
   "source": [
    "for key, value in treemap:\n",
    "    print(key, value)"
   ]
  },
  {
   "cell_type": "code",
   "execution_count": 117,
   "id": "b38ade4b-992c-45a2-ace0-08e7cd9c0cc5",
   "metadata": {},
   "outputs": [
    {
     "data": {
      "text/plain": [
       "[('aakash',\n",
       "  User(username='aakash', name='Aakash Rai', email='aakash@example.com')),\n",
       " ('biraj',\n",
       "  User(username='biraj', name='Biraj Das', email='biraj@example.com')),\n",
       " ('hemanth',\n",
       "  User(username='hemanth', name='Hemanth Jain', email='hemanth@example.com')),\n",
       " ('jadhesh',\n",
       "  User(username='jadhesh', name='Jadhesh Verma', email='jadhesh@example.com')),\n",
       " ('siddhant',\n",
       "  User(username='siddhant', name='Siddhant U', email='siddhantu@example.com')),\n",
       " ('sonaksh',\n",
       "  User(username='sonaksh', name='Sonaksh Kumar', email='sonaksh@example.com')),\n",
       " ('vishal',\n",
       "  User(username='vishal', name='Vishal Goel', email='vishal@example.com'))]"
      ]
     },
     "execution_count": 117,
     "metadata": {},
     "output_type": "execute_result"
    }
   ],
   "source": [
    "list(treemap)"
   ]
  },
  {
   "cell_type": "code",
   "execution_count": 118,
   "id": "d84bc727-a4d6-4444-a53c-521764907da2",
   "metadata": {},
   "outputs": [],
   "source": [
    "treemap['aakash'] = User(username='aakash', name='Aakash N S', email='aakashns@example.com')"
   ]
  },
  {
   "cell_type": "code",
   "execution_count": 119,
   "id": "e8163e4c-f204-4a52-bc5b-c81284efedb9",
   "metadata": {},
   "outputs": [
    {
     "data": {
      "text/plain": [
       "User(username='aakash', name='Aakash N S', email='aakashns@example.com')"
      ]
     },
     "execution_count": 119,
     "metadata": {},
     "output_type": "execute_result"
    }
   ],
   "source": [
    "treemap['aakash']"
   ]
  },
  {
   "cell_type": "code",
   "execution_count": null,
   "id": "ef02ce39-b42c-437b-878f-1fa8dd57a00c",
   "metadata": {},
   "outputs": [],
   "source": []
  }
 ],
 "metadata": {
  "kernelspec": {
   "display_name": "Python 3 (ipykernel)",
   "language": "python",
   "name": "python3"
  },
  "language_info": {
   "codemirror_mode": {
    "name": "ipython",
    "version": 3
   },
   "file_extension": ".py",
   "mimetype": "text/x-python",
   "name": "python",
   "nbconvert_exporter": "python",
   "pygments_lexer": "ipython3",
   "version": "3.12.5"
  }
 },
 "nbformat": 4,
 "nbformat_minor": 5
}
