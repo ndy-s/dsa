{
 "cells": [
  {
   "cell_type": "markdown",
   "id": "4418964c-542f-47ca-bf49-faa6aabe326b",
   "metadata": {},
   "source": [
    "# Problem Statement - Python Dictionaries and Hash Tables"
   ]
  },
  {
   "cell_type": "code",
   "execution_count": 1,
   "id": "99614d60-4001-4fdd-9305-86cee6a5a98b",
   "metadata": {},
   "outputs": [
    {
     "data": {
      "text/plain": [
       "{'Aakash': '9489484949', 'Hemanth': '9595949494', 'Siddhant': '9231325312'}"
      ]
     },
     "execution_count": 1,
     "metadata": {},
     "output_type": "execute_result"
    }
   ],
   "source": [
    "phone_numbers = {\n",
    "  'Aakash' : '9489484949',\n",
    "  'Hemanth' : '9595949494',\n",
    "  'Siddhant' : '9231325312'\n",
    "}\n",
    "phone_numbers"
   ]
  },
  {
   "cell_type": "code",
   "execution_count": 2,
   "id": "69db53f1-8109-4449-b5fd-627ba90d9378",
   "metadata": {},
   "outputs": [
    {
     "data": {
      "text/plain": [
       "'9489484949'"
      ]
     },
     "execution_count": 2,
     "metadata": {},
     "output_type": "execute_result"
    }
   ],
   "source": [
    "phone_numbers['Aakash']"
   ]
  },
  {
   "cell_type": "code",
   "execution_count": 3,
   "id": "74a5aad4-e416-46a8-9c68-3ca14ed0ead3",
   "metadata": {},
   "outputs": [
    {
     "data": {
      "text/plain": [
       "{'Aakash': '7878787878',\n",
       " 'Hemanth': '9595949494',\n",
       " 'Siddhant': '9231325312',\n",
       " 'Vishal': '8787878787'}"
      ]
     },
     "execution_count": 3,
     "metadata": {},
     "output_type": "execute_result"
    }
   ],
   "source": [
    "# Add a new value\n",
    "phone_numbers['Vishal'] = '8787878787'\n",
    "# Update existing value\n",
    "phone_numbers['Aakash'] = '7878787878'\n",
    "# View the updated dictionary\n",
    "phone_numbers"
   ]
  },
  {
   "cell_type": "code",
   "execution_count": 4,
   "id": "29e5ea7a-2acc-4c4b-b5e6-0cc9faf4b5fb",
   "metadata": {},
   "outputs": [
    {
     "name": "stdout",
     "output_type": "stream",
     "text": [
      "Name: Aakash Phone Number: 7878787878\n",
      "Name: Hemanth Phone Number: 9595949494\n",
      "Name: Siddhant Phone Number: 9231325312\n",
      "Name: Vishal Phone Number: 8787878787\n"
     ]
    }
   ],
   "source": [
    "for name in phone_numbers:\n",
    "    print('Name:', name, 'Phone Number:', phone_numbers[name])"
   ]
  },
  {
   "cell_type": "code",
   "execution_count": 5,
   "id": "ef6cec3a-fae9-45ee-b8cf-f8f813582114",
   "metadata": {},
   "outputs": [],
   "source": [
    "class HashTable:\n",
    "    def insert(self, key, value):\n",
    "        \"\"\"Insert a new key-value pair\"\"\"\n",
    "        pass\n",
    "\n",
    "    def find(self, key):\n",
    "        \"\"\"Find the value associated with a key\"\"\"\n",
    "        pass\n",
    "\n",
    "    def update(self, key, value):\n",
    "        \"\"\"Change the value associated with a key\"\"\"\n",
    "        pass\n",
    "\n",
    "    def list_all(self):\n",
    "        \"\"\"List all the keys\"\"\"\n",
    "        pass"
   ]
  },
  {
   "cell_type": "markdown",
   "id": "ac58083f-5455-4f90-9d86-b4169e1af0e3",
   "metadata": {},
   "source": [
    "## Data List"
   ]
  },
  {
   "cell_type": "code",
   "execution_count": 6,
   "id": "dbfff4e6-6d82-414c-a142-d33edf2a48c0",
   "metadata": {},
   "outputs": [],
   "source": [
    "MAX_HASH_TABLE_SIZE = 4096"
   ]
  },
  {
   "cell_type": "code",
   "execution_count": 8,
   "id": "0005aa5e-4c29-426c-ba8d-55c2e8be608d",
   "metadata": {},
   "outputs": [],
   "source": [
    "data_list = [None] * MAX_HASH_TABLE_SIZE"
   ]
  },
  {
   "cell_type": "code",
   "execution_count": 16,
   "id": "0214f023-8185-4c3c-abd4-47a8e51476fe",
   "metadata": {},
   "outputs": [
    {
     "data": {
      "text/plain": [
       "True"
      ]
     },
     "execution_count": 16,
     "metadata": {},
     "output_type": "execute_result"
    }
   ],
   "source": [
    "len(data_list) == 4096"
   ]
  },
  {
   "cell_type": "code",
   "execution_count": 17,
   "id": "e5443928-095c-4b10-9860-eb47ecfa5937",
   "metadata": {},
   "outputs": [
    {
     "data": {
      "text/plain": [
       "True"
      ]
     },
     "execution_count": 17,
     "metadata": {},
     "output_type": "execute_result"
    }
   ],
   "source": [
    "data_list[99] == None"
   ]
  },
  {
   "cell_type": "markdown",
   "id": "f38b3a29-d5ef-40fa-ac1b-7e808911fcbc",
   "metadata": {},
   "source": [
    "## Hashing Function"
   ]
  },
  {
   "cell_type": "code",
   "execution_count": 18,
   "id": "f94ff5b5-af2a-4133-9ec0-9055e343b275",
   "metadata": {},
   "outputs": [],
   "source": [
    "def get_index(data_list, a_string):\n",
    "    result = 0\n",
    "\n",
    "    for a_character in a_string:\n",
    "        a_number = ord(a_character)\n",
    "        result += a_number\n",
    "\n",
    "    list_index = result % len(data_list)\n",
    "    return list_index"
   ]
  },
  {
   "cell_type": "code",
   "execution_count": 19,
   "id": "badf526e-c42f-4126-9c47-52fe2aa94350",
   "metadata": {},
   "outputs": [
    {
     "data": {
      "text/plain": [
       "True"
      ]
     },
     "execution_count": 19,
     "metadata": {},
     "output_type": "execute_result"
    }
   ],
   "source": [
    "get_index(data_list, '') == 0"
   ]
  },
  {
   "cell_type": "code",
   "execution_count": 20,
   "id": "d5d78f22-cb3c-492f-9487-c94fe3986cff",
   "metadata": {},
   "outputs": [
    {
     "data": {
      "text/plain": [
       "True"
      ]
     },
     "execution_count": 20,
     "metadata": {},
     "output_type": "execute_result"
    }
   ],
   "source": [
    "get_index(data_list, 'Aakash') == 585"
   ]
  },
  {
   "cell_type": "code",
   "execution_count": 28,
   "id": "ae4ef6b0-03ae-44d7-ae9b-4e9ca67e1a69",
   "metadata": {},
   "outputs": [
    {
     "data": {
      "text/plain": [
       "585"
      ]
     },
     "execution_count": 28,
     "metadata": {},
     "output_type": "execute_result"
    }
   ],
   "source": [
    "ord('A') + ord('a') + ord('k') + ord('a') + ord('s') + ord('h')"
   ]
  },
  {
   "cell_type": "code",
   "execution_count": 30,
   "id": "119f1c69-d6e8-441a-a0c8-e6b93c347bcf",
   "metadata": {},
   "outputs": [
    {
     "data": {
      "text/plain": [
       "585"
      ]
     },
     "execution_count": 30,
     "metadata": {},
     "output_type": "execute_result"
    }
   ],
   "source": [
    "585 % len(data_list)"
   ]
  },
  {
   "cell_type": "code",
   "execution_count": 32,
   "id": "79b8cd7f-daa2-48a3-a075-06b271e960c4",
   "metadata": {},
   "outputs": [
    {
     "data": {
      "text/plain": [
       "True"
      ]
     },
     "execution_count": 32,
     "metadata": {},
     "output_type": "execute_result"
    }
   ],
   "source": [
    "get_index(data_list, 'Don O Leary') == 941"
   ]
  },
  {
   "cell_type": "markdown",
   "id": "44a71b02-6e88-42f9-b8f3-bfae77633b6c",
   "metadata": {},
   "source": [
    "## Insert"
   ]
  },
  {
   "cell_type": "code",
   "execution_count": 33,
   "id": "f22028bc-5b24-4632-951f-a6c51b2c1013",
   "metadata": {},
   "outputs": [],
   "source": [
    "key, value = 'Aakash', '7878787878'"
   ]
  },
  {
   "cell_type": "code",
   "execution_count": 34,
   "id": "259fce08-6a44-4514-b031-d107de87c93e",
   "metadata": {},
   "outputs": [
    {
     "data": {
      "text/plain": [
       "585"
      ]
     },
     "execution_count": 34,
     "metadata": {},
     "output_type": "execute_result"
    }
   ],
   "source": [
    "idx = get_index(data_list, key)\n",
    "idx"
   ]
  },
  {
   "cell_type": "code",
   "execution_count": 36,
   "id": "7597ec54-03e2-4fbb-a0ce-4d278f8c7aa5",
   "metadata": {},
   "outputs": [],
   "source": [
    "data_list[idx] = (key, value)"
   ]
  },
  {
   "cell_type": "code",
   "execution_count": 39,
   "id": "a5790a28-ac1e-45ef-96f2-3c1392856eb1",
   "metadata": {},
   "outputs": [],
   "source": [
    "data_list[get_index(data_list, 'Hemanth')] = ('Hemanth', '9595949494')"
   ]
  },
  {
   "cell_type": "markdown",
   "id": "3a81b85c-81d0-47a2-a439-d06d2998bf60",
   "metadata": {},
   "source": [
    "## Find"
   ]
  },
  {
   "cell_type": "code",
   "execution_count": 40,
   "id": "56f6c7fd-3e7a-4d94-81a0-a0cf064fc2ec",
   "metadata": {},
   "outputs": [
    {
     "data": {
      "text/plain": [
       "585"
      ]
     },
     "execution_count": 40,
     "metadata": {},
     "output_type": "execute_result"
    }
   ],
   "source": [
    "idx = get_index(data_list, 'Aakash')\n",
    "idx"
   ]
  },
  {
   "cell_type": "code",
   "execution_count": 41,
   "id": "69050c1e-c414-415f-8c0f-f424ff0c57fd",
   "metadata": {},
   "outputs": [
    {
     "data": {
      "text/plain": [
       "'7878787878'"
      ]
     },
     "execution_count": 41,
     "metadata": {},
     "output_type": "execute_result"
    }
   ],
   "source": [
    "key, value = data_list[idx]\n",
    "value"
   ]
  },
  {
   "cell_type": "markdown",
   "id": "8da75fe9-aa98-4477-a3e1-00b7aa93939b",
   "metadata": {},
   "source": [
    "## List"
   ]
  },
  {
   "cell_type": "code",
   "execution_count": 42,
   "id": "da47adf8-ea9c-4833-a1a6-4062824bb268",
   "metadata": {},
   "outputs": [],
   "source": [
    "pairs = [kv[0] for kv in data_list if kv is not None]"
   ]
  },
  {
   "cell_type": "code",
   "execution_count": 43,
   "id": "c2a2649f-34dc-4760-9c5e-10a8fe578ac8",
   "metadata": {},
   "outputs": [
    {
     "data": {
      "text/plain": [
       "['Aakash', 'Hemanth']"
      ]
     },
     "execution_count": 43,
     "metadata": {},
     "output_type": "execute_result"
    }
   ],
   "source": [
    "pairs"
   ]
  },
  {
   "cell_type": "markdown",
   "id": "c4c17cd8-dea1-45b7-b8ea-16ce3a5cea54",
   "metadata": {},
   "source": [
    "## Basic Hash Table Implementation"
   ]
  },
  {
   "cell_type": "code",
   "execution_count": 48,
   "id": "7af3f588-bd38-4d48-a98d-7cf93beb22f6",
   "metadata": {},
   "outputs": [],
   "source": [
    "class BasicHashTable:\n",
    "    def __init__(self, max_size=MAX_HASH_TABLE_SIZE):\n",
    "        self.data_list = [None] * max_size\n",
    "\n",
    "    def insert(self, key, value):\n",
    "        idx = get_index(self.data_list, key)\n",
    "        self.data_list[idx] = (key, value)\n",
    "\n",
    "    def find(self, key):\n",
    "        idx = get_index(self.data_list, key)\n",
    "        kv = self.data_list[idx]\n",
    "\n",
    "        if kv is None:\n",
    "            return None\n",
    "        else:\n",
    "            key, value = kv\n",
    "            return value\n",
    "\n",
    "    def update(self, key, value):\n",
    "        idx = get_index(self.data_list, key)\n",
    "        self.data_list[idx] = (key, value)\n",
    "\n",
    "    def list_all(self):\n",
    "        return [kv[0] for kv in self.data_list if kv is not None]"
   ]
  },
  {
   "cell_type": "code",
   "execution_count": 49,
   "id": "81ec3b98-8143-4884-b067-dc872be2687a",
   "metadata": {},
   "outputs": [
    {
     "data": {
      "text/plain": [
       "True"
      ]
     },
     "execution_count": 49,
     "metadata": {},
     "output_type": "execute_result"
    }
   ],
   "source": [
    "basic_table = BasicHashTable(max_size=1024)\n",
    "len(basic_table.data_list) == 1024"
   ]
  },
  {
   "cell_type": "code",
   "execution_count": 50,
   "id": "e5f8442c-fa51-499d-94d7-37a1f2a40f08",
   "metadata": {},
   "outputs": [
    {
     "data": {
      "text/plain": [
       "True"
      ]
     },
     "execution_count": 50,
     "metadata": {},
     "output_type": "execute_result"
    }
   ],
   "source": [
    "# Insert some values\n",
    "basic_table.insert('Aakash', '999999999')\n",
    "basic_table.insert('Hemanth', '8888888888')\n",
    "\n",
    "# Find a value\n",
    "basic_table.find('Hemanth') == '8888888888'"
   ]
  },
  {
   "cell_type": "code",
   "execution_count": 51,
   "id": "ba8bf487-b7ec-486a-bc38-9e1434ba9476",
   "metadata": {},
   "outputs": [
    {
     "data": {
      "text/plain": [
       "True"
      ]
     },
     "execution_count": 51,
     "metadata": {},
     "output_type": "execute_result"
    }
   ],
   "source": [
    "# Update a value\n",
    "basic_table.update('Aakash', '7777777777')\n",
    "\n",
    "basic_table.find('Aakash') == '7777777777'"
   ]
  },
  {
   "cell_type": "code",
   "execution_count": 52,
   "id": "322a4e20-b0ed-4629-8c7f-3ef681c3515f",
   "metadata": {},
   "outputs": [
    {
     "data": {
      "text/plain": [
       "True"
      ]
     },
     "execution_count": 52,
     "metadata": {},
     "output_type": "execute_result"
    }
   ],
   "source": [
    "basic_table.list_all() == ['Aakash', 'Hemanth']"
   ]
  },
  {
   "cell_type": "markdown",
   "id": "cd261502-4149-45b8-b835-a5ff33a1aa3e",
   "metadata": {},
   "source": [
    "## Handling Collisions with Linear Probing"
   ]
  },
  {
   "cell_type": "code",
   "execution_count": 54,
   "id": "b797b142-c9a1-446b-872f-6f17375e0150",
   "metadata": {},
   "outputs": [],
   "source": [
    "basic_table.insert('listen', 99)"
   ]
  },
  {
   "cell_type": "code",
   "execution_count": 55,
   "id": "88e1ca01-c991-4dc7-8fd0-8599adfa6f95",
   "metadata": {},
   "outputs": [],
   "source": [
    "basic_table.insert('silent', 200)"
   ]
  },
  {
   "cell_type": "code",
   "execution_count": 56,
   "id": "7c0200c0-6a74-42b3-a175-f572a726af04",
   "metadata": {},
   "outputs": [
    {
     "data": {
      "text/plain": [
       "200"
      ]
     },
     "execution_count": 56,
     "metadata": {},
     "output_type": "execute_result"
    }
   ],
   "source": [
    "basic_table.find('listen')"
   ]
  },
  {
   "cell_type": "code",
   "execution_count": 57,
   "id": "7cf04930-8a33-46ff-978c-9f5374495bb0",
   "metadata": {},
   "outputs": [],
   "source": [
    "def get_valid_index(data_list, key):\n",
    "    idx = get_index(data_list, key)\n",
    "\n",
    "    while True:\n",
    "        kv = data_list[idx]\n",
    "\n",
    "        if kv is None:\n",
    "            return idx\n",
    "\n",
    "        k, v = kv\n",
    "        if key == k:\n",
    "            return idx\n",
    "\n",
    "        idx += 1\n",
    "\n",
    "        if idx == len(data_list):\n",
    "            idx = 0"
   ]
  },
  {
   "cell_type": "code",
   "execution_count": 62,
   "id": "d260157b-bec8-4277-9461-746df71449a4",
   "metadata": {},
   "outputs": [
    {
     "data": {
      "text/plain": [
       "True"
      ]
     },
     "execution_count": 62,
     "metadata": {},
     "output_type": "execute_result"
    }
   ],
   "source": [
    "# Create an empty hash table\n",
    "data_list2 = [None] * MAX_HASH_TABLE_SIZE\n",
    "\n",
    "# New key 'listen' should return expected index\n",
    "get_valid_index(data_list2, 'listen') == 655"
   ]
  },
  {
   "cell_type": "code",
   "execution_count": 63,
   "id": "60df0e02-8446-4ce7-9e79-08adb176282e",
   "metadata": {},
   "outputs": [
    {
     "data": {
      "text/plain": [
       "True"
      ]
     },
     "execution_count": 63,
     "metadata": {},
     "output_type": "execute_result"
    }
   ],
   "source": [
    "# Insert a key-value pair for key 'listen'\n",
    "data_list2[get_index(data_list2, 'listen')] = ('listen', 99)\n",
    "\n",
    "# Colliding key 'silent' should return next index\n",
    "get_valid_index(data_list2, 'silent') == 656"
   ]
  },
  {
   "cell_type": "markdown",
   "id": "04daa61c-6717-4d21-a883-5f35071646ff",
   "metadata": {},
   "source": [
    "## Hash Table with Linear Probing"
   ]
  },
  {
   "cell_type": "code",
   "execution_count": 64,
   "id": "e964d9ec-d8d4-4134-8b9c-64be68f23502",
   "metadata": {},
   "outputs": [],
   "source": [
    "class ProbingHashTable:\n",
    "    def __init__(self, max_size=MAX_HASH_TABLE_SIZE):\n",
    "        self.data_list = [None] * max_size\n",
    "\n",
    "    def insert(self, key, value):\n",
    "        idx = get_valid_index(self.data_list, key)\n",
    "        self.data_list[idx] = (key, value)\n",
    "\n",
    "    def find(self, key):\n",
    "        idx = get_valid_index(self.data_list, key)\n",
    "        kv = self.data_list[idx]\n",
    "        return None if kv is None else kv[1]\n",
    "\n",
    "    def update(self, key, value):\n",
    "        idx = get_valid_index(self.data_list, key)\n",
    "        self.data_list[idx] = (key, value)\n",
    "\n",
    "    def list_all(self):\n",
    "        return [kv[0] for kv in self.data_list if kv is not None]"
   ]
  },
  {
   "cell_type": "code",
   "execution_count": 65,
   "id": "0d180133-315a-4101-b01b-d91b6a0b4225",
   "metadata": {},
   "outputs": [
    {
     "data": {
      "text/plain": [
       "True"
      ]
     },
     "execution_count": 65,
     "metadata": {},
     "output_type": "execute_result"
    }
   ],
   "source": [
    "# Create a new hash table\n",
    "probing_table = ProbingHashTable()\n",
    "\n",
    "# Insert a value\n",
    "probing_table.insert('listen', 99)\n",
    "\n",
    "# Check the value\n",
    "probing_table.find('listen') == 99"
   ]
  },
  {
   "cell_type": "code",
   "execution_count": 66,
   "id": "0b6b096e-e807-40d3-a411-77a31dc91b53",
   "metadata": {},
   "outputs": [
    {
     "data": {
      "text/plain": [
       "True"
      ]
     },
     "execution_count": 66,
     "metadata": {},
     "output_type": "execute_result"
    }
   ],
   "source": [
    "# Insert a colliding key\n",
    "probing_table.insert('silent', 200)\n",
    "\n",
    "# Check the new and old keys\n",
    "probing_table.find('listen') == 99 and probing_table.find('silent') == 200"
   ]
  },
  {
   "cell_type": "code",
   "execution_count": 69,
   "id": "250888ab-b578-4613-a698-784ccf9922b8",
   "metadata": {},
   "outputs": [
    {
     "data": {
      "text/plain": [
       "True"
      ]
     },
     "execution_count": 69,
     "metadata": {},
     "output_type": "execute_result"
    }
   ],
   "source": [
    "# Update a key\n",
    "probing_table.insert('listen', 101)\n",
    "\n",
    "# Check the value\n",
    "probing_table.find('listen') == 101"
   ]
  },
  {
   "cell_type": "code",
   "execution_count": 70,
   "id": "1e6d05bb-39ba-4cd3-a589-6f8edd45386e",
   "metadata": {},
   "outputs": [
    {
     "data": {
      "text/plain": [
       "True"
      ]
     },
     "execution_count": 70,
     "metadata": {},
     "output_type": "execute_result"
    }
   ],
   "source": [
    "probing_table.list_all() == ['listen', 'silent']"
   ]
  },
  {
   "cell_type": "markdown",
   "id": "1d44ec78-d7ef-4e77-a386-e3058324c298",
   "metadata": {},
   "source": [
    "## Python Dictionaries using Hash Tables"
   ]
  },
  {
   "cell_type": "code",
   "execution_count": 75,
   "id": "4f34f8d6-32ca-4d60-a298-337a9a767659",
   "metadata": {},
   "outputs": [],
   "source": [
    "MAX_HASH_TABLE_SIZE = 4096\n",
    "\n",
    "class HashTable:\n",
    "    def __init__(self, max_size=MAX_HASH_TABLE_SIZE):\n",
    "        self.data_list = [None] * max_size\n",
    "\n",
    "    def get_valid_index(self, key):\n",
    "        # Get index\n",
    "        result = 0\n",
    "\n",
    "        for char in key:\n",
    "            num = ord(char)\n",
    "            result += num\n",
    "\n",
    "        idx = result % len(self.data_list)\n",
    "\n",
    "        # Get valid index\n",
    "        while True:\n",
    "            kv = self.data_list[idx]\n",
    "\n",
    "            if kv is None:\n",
    "                return idx\n",
    "\n",
    "            k, v = kv\n",
    "            if key == k:\n",
    "                return idx\n",
    "\n",
    "            idx += 1\n",
    "\n",
    "            if idx == len(self.data_list):\n",
    "                idx = 0\n",
    "\n",
    "    def __getitem__(self, key):\n",
    "        idx = self.get_valid_index(key)\n",
    "        kv = self.data_list[idx]\n",
    "        \n",
    "        return None if kv is None else kv[1]\n",
    "\n",
    "    def __setitem__(self, key, value):\n",
    "        idx = self.get_valid_index(key)\n",
    "        self.data_list[idx] = (key, value)\n",
    "\n",
    "    def __iter__(self):\n",
    "        return (x for x in self.data_list if x is not None)\n",
    "\n",
    "    def __len__(self):\n",
    "        return len([x for x in self])\n",
    "\n",
    "    def __repr__(self):\n",
    "        from textwrap import indent\n",
    "        pairs = [indent(\"{} : {}\".format(repr(kv[0]), repr(kv[1])), '  ') for kv in self]\n",
    "        return \"{\\n\" + \"{}\".format(',\\n'.join(pairs)) + \"\\n}\"\n",
    "\n",
    "    def __str__(self):\n",
    "        return repr(self)"
   ]
  },
  {
   "cell_type": "code",
   "execution_count": 76,
   "id": "b4a998cd-bae2-4dce-aec0-ee43ce926a05",
   "metadata": {},
   "outputs": [
    {
     "data": {
      "text/plain": [
       "True"
      ]
     },
     "execution_count": 76,
     "metadata": {},
     "output_type": "execute_result"
    }
   ],
   "source": [
    "# Create a hash table\n",
    "table = HashTable()\n",
    "\n",
    "# Insert some key-value pairs\n",
    "table['a'] = 1\n",
    "table['b'] = 34\n",
    "\n",
    "# Retrieve the inserted values\n",
    "table['a'] == 1 and table['b'] == 34"
   ]
  },
  {
   "cell_type": "code",
   "execution_count": 78,
   "id": "a2bf6ec7-fcc1-4582-9f40-8ed672915485",
   "metadata": {},
   "outputs": [
    {
     "data": {
      "text/plain": [
       "True"
      ]
     },
     "execution_count": 78,
     "metadata": {},
     "output_type": "execute_result"
    }
   ],
   "source": [
    "# Update a value\n",
    "table['a'] = 99\n",
    "\n",
    "## Check the updated value\n",
    "table['a'] == 99"
   ]
  },
  {
   "cell_type": "code",
   "execution_count": 79,
   "id": "62f5880d-5438-4db3-950a-8bef972807f3",
   "metadata": {},
   "outputs": [
    {
     "data": {
      "text/plain": [
       "True"
      ]
     },
     "execution_count": 79,
     "metadata": {},
     "output_type": "execute_result"
    }
   ],
   "source": [
    "# Get a list of key-value pairs\n",
    "list(table) == [('a', 99), ('b', 34)]"
   ]
  },
  {
   "cell_type": "code",
   "execution_count": 80,
   "id": "2a6a6305-9320-4132-92f8-a96b5d57959d",
   "metadata": {},
   "outputs": [
    {
     "data": {
      "text/plain": [
       "{\n",
       "  'a' : 99,\n",
       "  'b' : 34\n",
       "}"
      ]
     },
     "execution_count": 80,
     "metadata": {},
     "output_type": "execute_result"
    }
   ],
   "source": [
    "table"
   ]
  },
  {
   "cell_type": "code",
   "execution_count": null,
   "id": "7063f023-8a7c-426d-a3be-cea37078005b",
   "metadata": {},
   "outputs": [],
   "source": []
  }
 ],
 "metadata": {
  "kernelspec": {
   "display_name": "Python 3 (ipykernel)",
   "language": "python",
   "name": "python3"
  },
  "language_info": {
   "codemirror_mode": {
    "name": "ipython",
    "version": 3
   },
   "file_extension": ".py",
   "mimetype": "text/x-python",
   "name": "python",
   "nbconvert_exporter": "python",
   "pygments_lexer": "ipython3",
   "version": "3.12.5"
  }
 },
 "nbformat": 4,
 "nbformat_minor": 5
}
